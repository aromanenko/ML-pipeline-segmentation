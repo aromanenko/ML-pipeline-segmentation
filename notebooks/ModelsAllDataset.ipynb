{
 "cells": [
  {
   "cell_type": "code",
   "execution_count": 181,
   "id": "1ae52a10",
   "metadata": {},
   "outputs": [],
   "source": [
    "# 1. Drop pairs that do not exist in test set\n",
    "# 2. Train another model for them\n",
    "# 3. Train another models for low-rowed train set"
   ]
  },
  {
   "cell_type": "markdown",
   "id": "bc167f2c",
   "metadata": {},
   "source": [
    "### 1"
   ]
  },
  {
   "cell_type": "code",
   "execution_count": 291,
   "id": "31266945",
   "metadata": {},
   "outputs": [
    {
     "name": "stdout",
     "output_type": "stream",
     "text": [
      "Train contains 80.0% of data - 1053453 rows\n",
      "Test contains 20.0% of data - 255403 rows\n"
     ]
    }
   ],
   "source": [
    "train_split_date = '2019-10-01'\n",
    "\n",
    "df_merged_train = df_merged[df_merged['period_start_dt'] <= train_split_date]\n",
    "df_merged_test = df_merged[df_merged['period_start_dt'] > train_split_date]\n",
    "\n",
    "\n",
    "print(f'Train contains {round(df_merged_train.shape[0] / df_merged.shape[0], 2) * 100}% of data - {df_merged_train.shape[0]} rows')\n",
    "print(f'Test contains {round(df_merged_test.shape[0] / df_merged.shape[0], 2) * 100}% of data - {df_merged_test.shape[0]} rows')"
   ]
  },
  {
   "cell_type": "code",
   "execution_count": 292,
   "id": "18889a5c",
   "metadata": {},
   "outputs": [],
   "source": [
    "# df_merged_train = df_merged_train.drop('key', axis=1)"
   ]
  },
  {
   "cell_type": "code",
   "execution_count": 293,
   "id": "ad528688",
   "metadata": {},
   "outputs": [],
   "source": [
    "test_pairs = df_merged_test.groupby(['product_rk', 'store_location_rk'])['demand'].count().\\\n",
    "    reset_index().rename(columns={'demand': 'key'})\n",
    "\n",
    "test_pairs['key'] = range(test_pairs.shape[0])"
   ]
  },
  {
   "cell_type": "code",
   "execution_count": 294,
   "id": "5980a9da",
   "metadata": {},
   "outputs": [
    {
     "data": {
      "text/html": [
       "<div>\n",
       "<style scoped>\n",
       "    .dataframe tbody tr th:only-of-type {\n",
       "        vertical-align: middle;\n",
       "    }\n",
       "\n",
       "    .dataframe tbody tr th {\n",
       "        vertical-align: top;\n",
       "    }\n",
       "\n",
       "    .dataframe thead th {\n",
       "        text-align: right;\n",
       "    }\n",
       "</style>\n",
       "<table border=\"1\" class=\"dataframe\">\n",
       "  <thead>\n",
       "    <tr style=\"text-align: right;\">\n",
       "      <th></th>\n",
       "      <th>product_rk</th>\n",
       "      <th>store_location_rk</th>\n",
       "      <th>key</th>\n",
       "    </tr>\n",
       "  </thead>\n",
       "  <tbody>\n",
       "    <tr>\n",
       "      <th>0</th>\n",
       "      <td>11478</td>\n",
       "      <td>1034</td>\n",
       "      <td>0</td>\n",
       "    </tr>\n",
       "    <tr>\n",
       "      <th>1</th>\n",
       "      <td>11478</td>\n",
       "      <td>1281</td>\n",
       "      <td>1</td>\n",
       "    </tr>\n",
       "    <tr>\n",
       "      <th>2</th>\n",
       "      <td>11506</td>\n",
       "      <td>764</td>\n",
       "      <td>2</td>\n",
       "    </tr>\n",
       "    <tr>\n",
       "      <th>3</th>\n",
       "      <td>11506</td>\n",
       "      <td>1034</td>\n",
       "      <td>3</td>\n",
       "    </tr>\n",
       "    <tr>\n",
       "      <th>4</th>\n",
       "      <td>11506</td>\n",
       "      <td>1281</td>\n",
       "      <td>4</td>\n",
       "    </tr>\n",
       "    <tr>\n",
       "      <th>...</th>\n",
       "      <td>...</td>\n",
       "      <td>...</td>\n",
       "      <td>...</td>\n",
       "    </tr>\n",
       "    <tr>\n",
       "      <th>58945</th>\n",
       "      <td>147201</td>\n",
       "      <td>1143</td>\n",
       "      <td>58945</td>\n",
       "    </tr>\n",
       "    <tr>\n",
       "      <th>58946</th>\n",
       "      <td>147201</td>\n",
       "      <td>1173</td>\n",
       "      <td>58946</td>\n",
       "    </tr>\n",
       "    <tr>\n",
       "      <th>58947</th>\n",
       "      <td>147201</td>\n",
       "      <td>1281</td>\n",
       "      <td>58947</td>\n",
       "    </tr>\n",
       "    <tr>\n",
       "      <th>58948</th>\n",
       "      <td>147201</td>\n",
       "      <td>1380</td>\n",
       "      <td>58948</td>\n",
       "    </tr>\n",
       "    <tr>\n",
       "      <th>58949</th>\n",
       "      <td>148271</td>\n",
       "      <td>637</td>\n",
       "      <td>58949</td>\n",
       "    </tr>\n",
       "  </tbody>\n",
       "</table>\n",
       "<p>58950 rows × 3 columns</p>\n",
       "</div>"
      ],
      "text/plain": [
       "       product_rk  store_location_rk    key\n",
       "0           11478               1034      0\n",
       "1           11478               1281      1\n",
       "2           11506                764      2\n",
       "3           11506               1034      3\n",
       "4           11506               1281      4\n",
       "...           ...                ...    ...\n",
       "58945      147201               1143  58945\n",
       "58946      147201               1173  58946\n",
       "58947      147201               1281  58947\n",
       "58948      147201               1380  58948\n",
       "58949      148271                637  58949\n",
       "\n",
       "[58950 rows x 3 columns]"
      ]
     },
     "execution_count": 294,
     "metadata": {},
     "output_type": "execute_result"
    }
   ],
   "source": [
    "test_pairs"
   ]
  },
  {
   "cell_type": "code",
   "execution_count": 295,
   "id": "516b9417",
   "metadata": {},
   "outputs": [],
   "source": [
    "# df_merged_test = df_merged_test.drop('key', axis=1)"
   ]
  },
  {
   "cell_type": "code",
   "execution_count": 296,
   "id": "798707fd",
   "metadata": {},
   "outputs": [],
   "source": [
    "df_merged_test = df_merged_test.merge(test_pairs, how='left', on=['product_rk', 'store_location_rk'])\n",
    "\n",
    "\n",
    "df_merged_train = df_merged_train.merge(test_pairs, how='left', on=['product_rk', 'store_location_rk'])\n",
    "df_merged_train = df_merged_train.dropna(subset=['key'])\n"
   ]
  },
  {
   "cell_type": "code",
   "execution_count": 297,
   "id": "868aca23",
   "metadata": {},
   "outputs": [
    {
     "data": {
      "text/plain": [
       "20854.0"
      ]
     },
     "execution_count": 297,
     "metadata": {},
     "output_type": "execute_result"
    }
   ],
   "source": [
    "df_merged_train['key'].unique()[5998]"
   ]
  },
  {
   "cell_type": "code",
   "execution_count": 298,
   "id": "fd627dcd",
   "metadata": {},
   "outputs": [
    {
     "data": {
      "text/html": [
       "<div>\n",
       "<style scoped>\n",
       "    .dataframe tbody tr th:only-of-type {\n",
       "        vertical-align: middle;\n",
       "    }\n",
       "\n",
       "    .dataframe tbody tr th {\n",
       "        vertical-align: top;\n",
       "    }\n",
       "\n",
       "    .dataframe thead th {\n",
       "        text-align: right;\n",
       "    }\n",
       "</style>\n",
       "<table border=\"1\" class=\"dataframe\">\n",
       "  <thead>\n",
       "    <tr style=\"text-align: right;\">\n",
       "      <th></th>\n",
       "      <th>product_rk</th>\n",
       "      <th>store_location_rk</th>\n",
       "      <th>period_start_dt</th>\n",
       "      <th>demand</th>\n",
       "      <th>PROMO1_FLAG</th>\n",
       "      <th>PROMO2_FLAG</th>\n",
       "      <th>PRICE_REGULAR</th>\n",
       "      <th>PRICE_AFTER_DISC</th>\n",
       "      <th>NUM_CONSULTANT</th>\n",
       "      <th>AUTORIZATION_FLAG</th>\n",
       "      <th>...</th>\n",
       "      <th>demand_lag52_w224D_keyproduct_rk_store_location_rk_preagmean_agmean_NO_FILTER_dynamic_rolling</th>\n",
       "      <th>demand_lag52_w224D_keyproduct_rk_store_location_rk_preagmean_agmedian_NO_FILTER_dynamic_rolling</th>\n",
       "      <th>demand_lag52_w728D_keyproduct_rk_store_location_rk_preagmean_agmean_NO_FILTER_dynamic_rolling</th>\n",
       "      <th>demand_lag52_w728D_keyproduct_rk_store_location_rk_preagmean_agmedian_NO_FILTER_dynamic_rolling</th>\n",
       "      <th>demand_lag52_w1456D_keyproduct_rk_store_location_rk_preagmean_agmean_NO_FILTER_dynamic_rolling</th>\n",
       "      <th>demand_lag52_w1456D_keyproduct_rk_store_location_rk_preagmean_agmedian_NO_FILTER_dynamic_rolling</th>\n",
       "      <th>city</th>\n",
       "      <th>region</th>\n",
       "      <th>label</th>\n",
       "      <th>key</th>\n",
       "    </tr>\n",
       "  </thead>\n",
       "  <tbody>\n",
       "    <tr>\n",
       "      <th>14037</th>\n",
       "      <td>80394</td>\n",
       "      <td>1034</td>\n",
       "      <td>2018-10-08</td>\n",
       "      <td>0.044444</td>\n",
       "      <td>0.0</td>\n",
       "      <td>0.0</td>\n",
       "      <td>4149.0</td>\n",
       "      <td>2696.95</td>\n",
       "      <td>0.0</td>\n",
       "      <td>1.0</td>\n",
       "      <td>...</td>\n",
       "      <td>0.531343</td>\n",
       "      <td>0.41791</td>\n",
       "      <td>0.496546</td>\n",
       "      <td>0.41791</td>\n",
       "      <td>0.496546</td>\n",
       "      <td>0.41791</td>\n",
       "      <td>203</td>\n",
       "      <td>10</td>\n",
       "      <td>0</td>\n",
       "      <td>20854.0</td>\n",
       "    </tr>\n",
       "  </tbody>\n",
       "</table>\n",
       "<p>1 rows × 144 columns</p>\n",
       "</div>"
      ],
      "text/plain": [
       "       product_rk  store_location_rk period_start_dt    demand  PROMO1_FLAG  \\\n",
       "14037       80394               1034      2018-10-08  0.044444          0.0   \n",
       "\n",
       "       PROMO2_FLAG  PRICE_REGULAR  PRICE_AFTER_DISC  NUM_CONSULTANT  \\\n",
       "14037          0.0         4149.0           2696.95             0.0   \n",
       "\n",
       "       AUTORIZATION_FLAG  ...  \\\n",
       "14037                1.0  ...   \n",
       "\n",
       "       demand_lag52_w224D_keyproduct_rk_store_location_rk_preagmean_agmean_NO_FILTER_dynamic_rolling  \\\n",
       "14037                                           0.531343                                               \n",
       "\n",
       "       demand_lag52_w224D_keyproduct_rk_store_location_rk_preagmean_agmedian_NO_FILTER_dynamic_rolling  \\\n",
       "14037                                            0.41791                                                 \n",
       "\n",
       "       demand_lag52_w728D_keyproduct_rk_store_location_rk_preagmean_agmean_NO_FILTER_dynamic_rolling  \\\n",
       "14037                                           0.496546                                               \n",
       "\n",
       "       demand_lag52_w728D_keyproduct_rk_store_location_rk_preagmean_agmedian_NO_FILTER_dynamic_rolling  \\\n",
       "14037                                            0.41791                                                 \n",
       "\n",
       "       demand_lag52_w1456D_keyproduct_rk_store_location_rk_preagmean_agmean_NO_FILTER_dynamic_rolling  \\\n",
       "14037                                           0.496546                                                \n",
       "\n",
       "       demand_lag52_w1456D_keyproduct_rk_store_location_rk_preagmean_agmedian_NO_FILTER_dynamic_rolling  \\\n",
       "14037                                            0.41791                                                  \n",
       "\n",
       "       city  region  label      key  \n",
       "14037   203      10      0  20854.0  \n",
       "\n",
       "[1 rows x 144 columns]"
      ]
     },
     "execution_count": 298,
     "metadata": {},
     "output_type": "execute_result"
    }
   ],
   "source": [
    "df_merged_train[df_merged_train['key'] == 20854.0]"
   ]
  },
  {
   "cell_type": "code",
   "execution_count": 299,
   "id": "8b657465",
   "metadata": {},
   "outputs": [],
   "source": [
    "test = df_merged_train[df_merged_train['key'] == 20854.0]"
   ]
  },
  {
   "cell_type": "code",
   "execution_count": 300,
   "id": "07f649d1",
   "metadata": {},
   "outputs": [
    {
     "data": {
      "text/html": [
       "<div>\n",
       "<style scoped>\n",
       "    .dataframe tbody tr th:only-of-type {\n",
       "        vertical-align: middle;\n",
       "    }\n",
       "\n",
       "    .dataframe tbody tr th {\n",
       "        vertical-align: top;\n",
       "    }\n",
       "\n",
       "    .dataframe thead th {\n",
       "        text-align: right;\n",
       "    }\n",
       "</style>\n",
       "<table border=\"1\" class=\"dataframe\">\n",
       "  <thead>\n",
       "    <tr style=\"text-align: right;\">\n",
       "      <th></th>\n",
       "      <th>product_rk</th>\n",
       "      <th>store_location_rk</th>\n",
       "      <th>period_start_dt</th>\n",
       "      <th>demand</th>\n",
       "      <th>PROMO1_FLAG</th>\n",
       "      <th>PROMO2_FLAG</th>\n",
       "      <th>PRICE_REGULAR</th>\n",
       "      <th>PRICE_AFTER_DISC</th>\n",
       "      <th>NUM_CONSULTANT</th>\n",
       "      <th>AUTORIZATION_FLAG</th>\n",
       "      <th>...</th>\n",
       "      <th>demand_lag52_w224D_keyproduct_rk_store_location_rk_preagmean_agmean_NO_FILTER_dynamic_rolling</th>\n",
       "      <th>demand_lag52_w224D_keyproduct_rk_store_location_rk_preagmean_agmedian_NO_FILTER_dynamic_rolling</th>\n",
       "      <th>demand_lag52_w728D_keyproduct_rk_store_location_rk_preagmean_agmean_NO_FILTER_dynamic_rolling</th>\n",
       "      <th>demand_lag52_w728D_keyproduct_rk_store_location_rk_preagmean_agmedian_NO_FILTER_dynamic_rolling</th>\n",
       "      <th>demand_lag52_w1456D_keyproduct_rk_store_location_rk_preagmean_agmean_NO_FILTER_dynamic_rolling</th>\n",
       "      <th>demand_lag52_w1456D_keyproduct_rk_store_location_rk_preagmean_agmedian_NO_FILTER_dynamic_rolling</th>\n",
       "      <th>city</th>\n",
       "      <th>region</th>\n",
       "      <th>label</th>\n",
       "      <th>key</th>\n",
       "    </tr>\n",
       "  </thead>\n",
       "  <tbody>\n",
       "    <tr>\n",
       "      <th>14037</th>\n",
       "      <td>80394</td>\n",
       "      <td>1034</td>\n",
       "      <td>2018-10-08</td>\n",
       "      <td>0.044444</td>\n",
       "      <td>0.0</td>\n",
       "      <td>0.0</td>\n",
       "      <td>4149.0</td>\n",
       "      <td>2696.95</td>\n",
       "      <td>0.0</td>\n",
       "      <td>1.0</td>\n",
       "      <td>...</td>\n",
       "      <td>0.531343</td>\n",
       "      <td>0.41791</td>\n",
       "      <td>0.496546</td>\n",
       "      <td>0.41791</td>\n",
       "      <td>0.496546</td>\n",
       "      <td>0.41791</td>\n",
       "      <td>203</td>\n",
       "      <td>10</td>\n",
       "      <td>0</td>\n",
       "      <td>20854.0</td>\n",
       "    </tr>\n",
       "    <tr>\n",
       "      <th>14037</th>\n",
       "      <td>80394</td>\n",
       "      <td>1034</td>\n",
       "      <td>2018-10-08</td>\n",
       "      <td>0.044286</td>\n",
       "      <td>0.0</td>\n",
       "      <td>0.0</td>\n",
       "      <td>4149.0</td>\n",
       "      <td>2696.95</td>\n",
       "      <td>0.0</td>\n",
       "      <td>1.0</td>\n",
       "      <td>...</td>\n",
       "      <td>0.531343</td>\n",
       "      <td>0.41791</td>\n",
       "      <td>0.496546</td>\n",
       "      <td>0.41791</td>\n",
       "      <td>0.496546</td>\n",
       "      <td>0.41791</td>\n",
       "      <td>203</td>\n",
       "      <td>10</td>\n",
       "      <td>0</td>\n",
       "      <td>20854.0</td>\n",
       "    </tr>\n",
       "  </tbody>\n",
       "</table>\n",
       "<p>2 rows × 144 columns</p>\n",
       "</div>"
      ],
      "text/plain": [
       "       product_rk  store_location_rk period_start_dt    demand  PROMO1_FLAG  \\\n",
       "14037       80394               1034      2018-10-08  0.044444          0.0   \n",
       "14037       80394               1034      2018-10-08  0.044286          0.0   \n",
       "\n",
       "       PROMO2_FLAG  PRICE_REGULAR  PRICE_AFTER_DISC  NUM_CONSULTANT  \\\n",
       "14037          0.0         4149.0           2696.95             0.0   \n",
       "14037          0.0         4149.0           2696.95             0.0   \n",
       "\n",
       "       AUTORIZATION_FLAG  ...  \\\n",
       "14037                1.0  ...   \n",
       "14037                1.0  ...   \n",
       "\n",
       "       demand_lag52_w224D_keyproduct_rk_store_location_rk_preagmean_agmean_NO_FILTER_dynamic_rolling  \\\n",
       "14037                                           0.531343                                               \n",
       "14037                                           0.531343                                               \n",
       "\n",
       "       demand_lag52_w224D_keyproduct_rk_store_location_rk_preagmean_agmedian_NO_FILTER_dynamic_rolling  \\\n",
       "14037                                            0.41791                                                 \n",
       "14037                                            0.41791                                                 \n",
       "\n",
       "       demand_lag52_w728D_keyproduct_rk_store_location_rk_preagmean_agmean_NO_FILTER_dynamic_rolling  \\\n",
       "14037                                           0.496546                                               \n",
       "14037                                           0.496546                                               \n",
       "\n",
       "       demand_lag52_w728D_keyproduct_rk_store_location_rk_preagmean_agmedian_NO_FILTER_dynamic_rolling  \\\n",
       "14037                                            0.41791                                                 \n",
       "14037                                            0.41791                                                 \n",
       "\n",
       "       demand_lag52_w1456D_keyproduct_rk_store_location_rk_preagmean_agmean_NO_FILTER_dynamic_rolling  \\\n",
       "14037                                           0.496546                                                \n",
       "14037                                           0.496546                                                \n",
       "\n",
       "       demand_lag52_w1456D_keyproduct_rk_store_location_rk_preagmean_agmedian_NO_FILTER_dynamic_rolling  \\\n",
       "14037                                            0.41791                                                  \n",
       "14037                                            0.41791                                                  \n",
       "\n",
       "       city  region  label      key  \n",
       "14037   203      10      0  20854.0  \n",
       "14037   203      10      0  20854.0  \n",
       "\n",
       "[2 rows x 144 columns]"
      ]
     },
     "execution_count": 300,
     "metadata": {},
     "output_type": "execute_result"
    }
   ],
   "source": [
    "test_new = test.copy()\n",
    "test_new['demand'] += np.random.normal(scale=1e-4, size=test.shape[0])\n",
    "pd.concat([test, test_new], axis=0)"
   ]
  },
  {
   "cell_type": "code",
   "execution_count": 304,
   "id": "1993faa9",
   "metadata": {},
   "outputs": [],
   "source": [
    "# test = df_merged_train[df_merged_train['key'] == 21934.0]\n",
    "\n",
    "# if (test['demand'] == test['demand'].iloc[0]).all():\n",
    "#     test.loc['demand'] += np.random.normal(scale=1e-4, size=test.shape[0])"
   ]
  },
  {
   "cell_type": "code",
   "execution_count": 312,
   "id": "dd12f146",
   "metadata": {},
   "outputs": [],
   "source": [
    "n_samples = df_merged_train.groupby('key')['demand'].count().reset_index().rename(columns={'demand': 'n_train'})\n",
    "df_merged_train = df_merged_train.merge(n_samples, on='key', how='left')"
   ]
  },
  {
   "cell_type": "code",
   "execution_count": 322,
   "id": "37da7561",
   "metadata": {},
   "outputs": [],
   "source": [
    "key2keep = df_merged_train[df_merged_train['n_train'] > 40]['key'].unique()"
   ]
  },
  {
   "cell_type": "code",
   "execution_count": 323,
   "id": "16eb7523",
   "metadata": {},
   "outputs": [],
   "source": [
    "trainSet = df_merged_train[df_merged_train['key'].isin(key2keep)]\n",
    "testSet = df_merged_test[df_merged_test['key'].isin(key2keep)]"
   ]
  },
  {
   "cell_type": "code",
   "execution_count": 324,
   "id": "f58acdec",
   "metadata": {},
   "outputs": [
    {
     "data": {
      "application/vnd.jupyter.widget-view+json": {
       "model_id": "3e895acbf32741e0bf02fd5d3fb6b97a",
       "version_major": 2,
       "version_minor": 0
      },
      "text/plain": [
       "  0%|          | 0/1188 [00:00<?, ?it/s]"
      ]
     },
     "metadata": {},
     "output_type": "display_data"
    }
   ],
   "source": [
    "mse_sum = 0\n",
    "shape_sum = 0\n",
    "main_cols = ['product_rk', 'store_location_rk', 'PROMO1_FLAG', 'PROMO2_FLAG', 'city']\n",
    "lag_cols = trainSet.columns[trainSet.columns.str.contains('demand_')]\n",
    "train_cols = main_cols + list(lag_cols)\n",
    "\n",
    "for key_pair in tqdm(trainSet['key'].unique(), total=len(trainSet['key'].unique())):\n",
    "    train = trainSet[trainSet['key'] == key_pair]\n",
    "    \n",
    "#     сделал выше\n",
    "#     if train.shape[0] < 30:\n",
    "#         continue\n",
    "        \n",
    "    if train.shape[0] == 1:\n",
    "        continue\n",
    "#         train_tmp = train.copy()\n",
    "#         train_tmp['demand'] += np.random.normal(scale=1e-4, size=1)\n",
    "#         train = pd.concat([train, train_tmp], axis=0)\n",
    "        \n",
    "    if (train['demand'] == train['demand'].iloc[0]).all():\n",
    "        train['demand'] += np.random.normal(scale=1e-4, size=train.shape[0])\n",
    "        \n",
    "    X_train, y_train = train[train_cols].values, train['demand'].values\n",
    "    X_test, y_test = testSet[testSet['key'] == key_pair][train_cols].values, testSet[testSet['key'] == key_pair]['demand'].values\n",
    "    \n",
    "#     best_params = get_best_params(X_train, y_train)\n",
    "\n",
    "#     cat = CatBoostRegressor(iterations=100, **best_params)\n",
    "    cat = CatBoostRegressor(iterations=100, verbose=0)\n",
    "    cat.fit(X_train, y_train)\n",
    "    \n",
    "    preds = cat.predict(X_test)\n",
    "    \n",
    "    mse_sum += mean_squared_error(preds, y_test) * X_test.shape[0]\n",
    "    shape_sum += X_test.shape[0]\n",
    "    "
   ]
  },
  {
   "cell_type": "code",
   "execution_count": 325,
   "id": "331319b1",
   "metadata": {},
   "outputs": [
    {
     "data": {
      "text/plain": [
       "50.32074226733585"
      ]
     },
     "execution_count": 325,
     "metadata": {},
     "output_type": "execute_result"
    }
   ],
   "source": [
    "mse_sum / shape_sum"
   ]
  },
  {
   "cell_type": "code",
   "execution_count": 233,
   "id": "a7acb29c",
   "metadata": {},
   "outputs": [],
   "source": [
    "# store = 926\n",
    "# product = 45312\n",
    "\n",
    "\n",
    "# df[(df['product_rk'] == product) & (df['store_location_rk'] == store)].sort_values('period_start_dt').\\\n",
    "# set_index('period_start_dt')[['demand']].plot(figsize=(10, 8), color='blue', label=f'Demand_Store{store}_product{product}')\n",
    "# plt.xlabel('Date', weight='bold', size=12)\n",
    "# plt.ylabel('Demand', weight='bold', size=12)\n",
    "# plt.legend()\n"
   ]
  },
  {
   "cell_type": "code",
   "execution_count": null,
   "id": "507c313b",
   "metadata": {},
   "outputs": [],
   "source": []
  },
  {
   "cell_type": "code",
   "execution_count": null,
   "id": "1606f483",
   "metadata": {},
   "outputs": [],
   "source": []
  }
 ],
 "metadata": {
  "kernelspec": {
   "display_name": "Python 3 (ipykernel)",
   "language": "python",
   "name": "python3"
  },
  "language_info": {
   "codemirror_mode": {
    "name": "ipython",
    "version": 3
   },
   "file_extension": ".py",
   "mimetype": "text/x-python",
   "name": "python",
   "nbconvert_exporter": "python",
   "pygments_lexer": "ipython3",
   "version": "3.10.9"
  }
 },
 "nbformat": 4,
 "nbformat_minor": 5
}
