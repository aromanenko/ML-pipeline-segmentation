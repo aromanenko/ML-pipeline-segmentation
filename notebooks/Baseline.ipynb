{
 "cells": [
  {
   "cell_type": "code",
   "execution_count": 1,
   "id": "bea1e8ff",
   "metadata": {
    "ExecuteTime": {
     "end_time": "2023-01-12T17:01:53.332756Z",
     "start_time": "2023-01-12T17:01:51.708066Z"
    }
   },
   "outputs": [],
   "source": [
    "import pandas as pd\n",
    "import numpy as np\n",
    "import matplotlib.pyplot as plt\n",
    "import os\n",
    "from tqdm.notebook import tqdm"
   ]
  },
  {
   "cell_type": "code",
   "execution_count": 2,
   "id": "dc9864b2",
   "metadata": {},
   "outputs": [],
   "source": [
    "# os.makedirs('DataLagsPkl')\n",
    "# df = pd.DataFrame()\n",
    "# for filename in tqdm(os.listdir('DataLags/')):\n",
    "#     if '.csv' in filename:\n",
    "#         data = pd.read_csv(f'DataLags/{filename}')\n",
    "#         data.to_pickle(f'DataLagsPkl/{filename.replace(\"csv\", \"pkl\")}')\n",
    "# #         df = pd.concat([df, data])"
   ]
  },
  {
   "cell_type": "markdown",
   "id": "b0b4ac7b",
   "metadata": {},
   "source": [
    "## Read data"
   ]
  },
  {
   "cell_type": "code",
   "execution_count": 3,
   "id": "851a6221",
   "metadata": {},
   "outputs": [
    {
     "data": {
      "application/vnd.jupyter.widget-view+json": {
       "model_id": "bad60c93eeee41e3ba0369801236ae62",
       "version_major": 2,
       "version_minor": 0
      },
      "text/plain": [
       "  0%|          | 0/5 [00:00<?, ?it/s]"
      ]
     },
     "metadata": {},
     "output_type": "display_data"
    }
   ],
   "source": [
    "N_READ_FILES = 5\n",
    "\n",
    "df = pd.DataFrame()\n",
    "for filename in tqdm(os.listdir('DataLagsPkl//')[:N_READ_FILES]):\n",
    "    if '.pkl' in filename:\n",
    "        data = pd.read_pickle(f'DataLagsPkl//{filename}')\n",
    "        df = pd.concat([df, data])\n",
    "        \n",
    "df = df.reset_index(drop=True)"
   ]
  },
  {
   "cell_type": "code",
   "execution_count": 4,
   "id": "fe26327a",
   "metadata": {},
   "outputs": [
    {
     "name": "stdout",
     "output_type": "stream",
     "text": [
      "(1615127, 140)\n"
     ]
    }
   ],
   "source": [
    "print(df.shape)"
   ]
  },
  {
   "cell_type": "code",
   "execution_count": 5,
   "id": "c71c81fd",
   "metadata": {},
   "outputs": [],
   "source": [
    "df_sample = df.copy()"
   ]
  },
  {
   "cell_type": "markdown",
   "id": "9a5e5d41",
   "metadata": {},
   "source": [
    "## Merge locations"
   ]
  },
  {
   "cell_type": "code",
   "execution_count": 6,
   "id": "0f988820",
   "metadata": {},
   "outputs": [],
   "source": [
    "location_dict = pd.read_csv('LOCATION.csv', sep=';').rename(\n",
    "    columns={\n",
    "        'STORE_LOCATION_RK': 'store_location_rk',\n",
    "        'STORE_LOCATION_LVL_RK3': 'city',\n",
    "        'STORE_LOCATION_LVL_RK2': 'region'\n",
    "    }\n",
    ")"
   ]
  },
  {
   "cell_type": "code",
   "execution_count": 7,
   "id": "dd44bd42",
   "metadata": {},
   "outputs": [],
   "source": [
    "df_merged = df_sample.merge(location_dict[['store_location_rk', 'city', 'region']], how='left', on='store_location_rk')"
   ]
  },
  {
   "cell_type": "code",
   "execution_count": 8,
   "id": "8129f5f4",
   "metadata": {},
   "outputs": [],
   "source": [
    "assert df_merged['city'].isna().sum() == 0\n",
    "assert df_merged['region'].isna().sum() == 0"
   ]
  },
  {
   "cell_type": "markdown",
   "id": "c7d875f9",
   "metadata": {},
   "source": [
    "## Clustering "
   ]
  },
  {
   "cell_type": "code",
   "execution_count": 9,
   "id": "0e5f7722",
   "metadata": {},
   "outputs": [
    {
     "data": {
      "text/plain": [
       "'2019-12-30'"
      ]
     },
     "execution_count": 9,
     "metadata": {},
     "output_type": "execute_result"
    }
   ],
   "source": [
    "df_merged['period_start_dt'].max()"
   ]
  },
  {
   "cell_type": "code",
   "execution_count": 10,
   "id": "50130098",
   "metadata": {},
   "outputs": [
    {
     "name": "stdout",
     "output_type": "stream",
     "text": [
      "Train contains 90.0% of data\n",
      "Test contains 10.0% of data\n"
     ]
    }
   ],
   "source": [
    "train_split_date = '2019-10-01'\n",
    "\n",
    "df_merged_train = df_merged[df_merged['period_start_dt'] <= train_split_date]\n",
    "df_merged_test = df_merged[df_merged['period_start_dt'] > train_split_date]\n",
    "\n",
    "\n",
    "print(f'Train contains {round(df_merged_train.shape[0] / df_merged.shape[0], 2) * 100}% of data')\n",
    "print(f'Test contains {round(df_merged_test.shape[0] / df_merged.shape[0], 2) * 100}% of data')"
   ]
  },
  {
   "cell_type": "code",
   "execution_count": 11,
   "id": "2ff765a6",
   "metadata": {
    "ExecuteTime": {
     "end_time": "2022-12-28T17:44:38.752981Z",
     "start_time": "2022-12-28T17:44:38.445351Z"
    }
   },
   "outputs": [],
   "source": [
    "## take top10 products by demand sum\n",
    "\n",
    "# top_sum = df_merged.groupby('city')['demand'].mean()\n",
    "# idx = top_sum.sort_values(ascending=False).head(10).index\n",
    "# df_top = df[df['product_rk'].isin(idx)]\n",
    "# top_sum"
   ]
  },
  {
   "cell_type": "markdown",
   "id": "be54e032",
   "metadata": {},
   "source": [
    "## ByCity"
   ]
  },
  {
   "cell_type": "code",
   "execution_count": 12,
   "id": "e177f64d",
   "metadata": {},
   "outputs": [],
   "source": [
    "# df_merged = df_merged[df_merged['city'] != 39]"
   ]
  },
  {
   "cell_type": "code",
   "execution_count": 13,
   "id": "e2608543",
   "metadata": {},
   "outputs": [
    {
     "data": {
      "text/html": [
       "<div>\n",
       "<style scoped>\n",
       "    .dataframe tbody tr th:only-of-type {\n",
       "        vertical-align: middle;\n",
       "    }\n",
       "\n",
       "    .dataframe tbody tr th {\n",
       "        vertical-align: top;\n",
       "    }\n",
       "\n",
       "    .dataframe thead th {\n",
       "        text-align: right;\n",
       "    }\n",
       "</style>\n",
       "<table border=\"1\" class=\"dataframe\">\n",
       "  <thead>\n",
       "    <tr style=\"text-align: right;\">\n",
       "      <th></th>\n",
       "      <th>39</th>\n",
       "      <th>54</th>\n",
       "      <th>203</th>\n",
       "      <th>219</th>\n",
       "    </tr>\n",
       "    <tr>\n",
       "      <th>product_rk</th>\n",
       "      <th></th>\n",
       "      <th></th>\n",
       "      <th></th>\n",
       "      <th></th>\n",
       "    </tr>\n",
       "  </thead>\n",
       "  <tbody>\n",
       "    <tr>\n",
       "      <th>11389</th>\n",
       "      <td>0.0</td>\n",
       "      <td>0.000000</td>\n",
       "      <td>1.095238</td>\n",
       "      <td>0.0</td>\n",
       "    </tr>\n",
       "    <tr>\n",
       "      <th>11390</th>\n",
       "      <td>0.0</td>\n",
       "      <td>0.000000</td>\n",
       "      <td>0.248875</td>\n",
       "      <td>0.0</td>\n",
       "    </tr>\n",
       "    <tr>\n",
       "      <th>11391</th>\n",
       "      <td>0.0</td>\n",
       "      <td>0.000000</td>\n",
       "      <td>0.267311</td>\n",
       "      <td>0.0</td>\n",
       "    </tr>\n",
       "    <tr>\n",
       "      <th>11403</th>\n",
       "      <td>0.0</td>\n",
       "      <td>0.000000</td>\n",
       "      <td>0.311703</td>\n",
       "      <td>0.0</td>\n",
       "    </tr>\n",
       "    <tr>\n",
       "      <th>11404</th>\n",
       "      <td>0.0</td>\n",
       "      <td>0.443989</td>\n",
       "      <td>0.904972</td>\n",
       "      <td>0.0</td>\n",
       "    </tr>\n",
       "  </tbody>\n",
       "</table>\n",
       "</div>"
      ],
      "text/plain": [
       "             39        54       203  219\n",
       "product_rk                              \n",
       "11389       0.0  0.000000  1.095238  0.0\n",
       "11390       0.0  0.000000  0.248875  0.0\n",
       "11391       0.0  0.000000  0.267311  0.0\n",
       "11403       0.0  0.000000  0.311703  0.0\n",
       "11404       0.0  0.443989  0.904972  0.0"
      ]
     },
     "execution_count": 13,
     "metadata": {},
     "output_type": "execute_result"
    }
   ],
   "source": [
    "## calculate mean demand for every pair product-city\n",
    "\n",
    "demand_top_sku_pivot = pd.pivot_table(df_merged_train.groupby(['product_rk', 'city'])['demand'].mean().reset_index(), \n",
    "                                      index='product_rk', values='demand', columns='city', fill_value=0).rename_axis(None, axis=1)\n",
    "demand_top_sku_pivot.columns = demand_top_sku_pivot.columns.astype(str)\n",
    "demand_top_sku_pivot.head()\n",
    "\n"
   ]
  },
  {
   "cell_type": "code",
   "execution_count": 14,
   "id": "b7754970",
   "metadata": {
    "ExecuteTime": {
     "end_time": "2022-12-28T17:49:42.999760Z",
     "start_time": "2022-12-28T17:49:42.985280Z"
    }
   },
   "outputs": [],
   "source": [
    "from scipy.cluster.hierarchy import dendrogram\n",
    "from sklearn.cluster import AgglomerativeClustering\n",
    "\n",
    "def plot_dendrogram(model, **kwargs):\n",
    "    # Create linkage matrix and then plot the dendrogram\n",
    "\n",
    "    # create the counts of samples under each node\n",
    "    counts = np.zeros(model.children_.shape[0])\n",
    "    n_samples = len(model.labels_)\n",
    "    for i, merge in enumerate(model.children_):\n",
    "        current_count = 0\n",
    "        for child_idx in merge:\n",
    "            if child_idx < n_samples:\n",
    "                current_count += 1  # leaf node\n",
    "            else:\n",
    "                current_count += counts[child_idx - n_samples]\n",
    "        counts[i] = current_count\n",
    "\n",
    "    linkage_matrix = np.column_stack(\n",
    "        [model.children_, model.distances_, counts]\n",
    "    ).astype(float)\n",
    "\n",
    "    # Plot the corresponding dendrogram\n",
    "    dendrogram(linkage_matrix, **kwargs)"
   ]
  },
  {
   "cell_type": "code",
   "execution_count": 15,
   "id": "1f2c4924",
   "metadata": {
    "ExecuteTime": {
     "end_time": "2022-12-28T17:49:44.661826Z",
     "start_time": "2022-12-28T17:49:44.474792Z"
    }
   },
   "outputs": [],
   "source": [
    "agcl =  AgglomerativeClustering(distance_threshold=0, n_clusters=None)\n",
    "agcl = agcl.fit(demand_top_sku_pivot)\n",
    "# plot the top three levels of the dendrogram\n",
    "# plot_dendrogram(agcl, truncate_mode=\"level\", p=3)"
   ]
  },
  {
   "cell_type": "code",
   "execution_count": 16,
   "id": "756f7507",
   "metadata": {},
   "outputs": [
    {
     "data": {
      "image/png": "[encoded data removed]",
      "text/plain": [
       "<Figure size 640x480 with 1 Axes>"
      ]
     },
     "metadata": {},
     "output_type": "display_data"
    }
   ],
   "source": [
    "plot_dendrogram(agcl, truncate_mode=\"level\", p=3)"
   ]
  },
  {
   "cell_type": "code",
   "execution_count": 17,
   "id": "4836d4dd",
   "metadata": {
    "ExecuteTime": {
     "end_time": "2022-12-28T17:50:50.956163Z",
     "start_time": "2022-12-28T17:50:47.475391Z"
    }
   },
   "outputs": [
    {
     "data": {
      "text/html": [
       "<div>\n",
       "<style scoped>\n",
       "    .dataframe tbody tr th:only-of-type {\n",
       "        vertical-align: middle;\n",
       "    }\n",
       "\n",
       "    .dataframe tbody tr th {\n",
       "        vertical-align: top;\n",
       "    }\n",
       "\n",
       "    .dataframe thead th {\n",
       "        text-align: right;\n",
       "    }\n",
       "</style>\n",
       "<table border=\"1\" class=\"dataframe\">\n",
       "  <thead>\n",
       "    <tr style=\"text-align: right;\">\n",
       "      <th></th>\n",
       "      <th>product_rk</th>\n",
       "      <th>store_location_rk</th>\n",
       "      <th>period_start_dt</th>\n",
       "      <th>demand</th>\n",
       "      <th>PROMO1_FLAG</th>\n",
       "      <th>PROMO2_FLAG</th>\n",
       "      <th>PRICE_REGULAR</th>\n",
       "      <th>PRICE_AFTER_DISC</th>\n",
       "      <th>NUM_CONSULTANT</th>\n",
       "      <th>AUTORIZATION_FLAG</th>\n",
       "      <th>...</th>\n",
       "      <th>demand_lag52_w112D_keyproduct_rk_store_location_rk_preagmean_agmedian_NO_FILTER_dynamic_rolling</th>\n",
       "      <th>demand_lag52_w224D_keyproduct_rk_store_location_rk_preagmean_agmean_NO_FILTER_dynamic_rolling</th>\n",
       "      <th>demand_lag52_w224D_keyproduct_rk_store_location_rk_preagmean_agmedian_NO_FILTER_dynamic_rolling</th>\n",
       "      <th>demand_lag52_w728D_keyproduct_rk_store_location_rk_preagmean_agmean_NO_FILTER_dynamic_rolling</th>\n",
       "      <th>demand_lag52_w728D_keyproduct_rk_store_location_rk_preagmean_agmedian_NO_FILTER_dynamic_rolling</th>\n",
       "      <th>demand_lag52_w1456D_keyproduct_rk_store_location_rk_preagmean_agmean_NO_FILTER_dynamic_rolling</th>\n",
       "      <th>demand_lag52_w1456D_keyproduct_rk_store_location_rk_preagmean_agmedian_NO_FILTER_dynamic_rolling</th>\n",
       "      <th>city</th>\n",
       "      <th>region</th>\n",
       "      <th>label</th>\n",
       "    </tr>\n",
       "  </thead>\n",
       "  <tbody>\n",
       "    <tr>\n",
       "      <th>0</th>\n",
       "      <td>44467</td>\n",
       "      <td>1143</td>\n",
       "      <td>2016-12-26</td>\n",
       "      <td>1.344828</td>\n",
       "      <td>1.0</td>\n",
       "      <td>0.0</td>\n",
       "      <td>312.0</td>\n",
       "      <td>271.285714</td>\n",
       "      <td>0.0</td>\n",
       "      <td>1.0</td>\n",
       "      <td>...</td>\n",
       "      <td>NaN</td>\n",
       "      <td>NaN</td>\n",
       "      <td>NaN</td>\n",
       "      <td>NaN</td>\n",
       "      <td>NaN</td>\n",
       "      <td>NaN</td>\n",
       "      <td>NaN</td>\n",
       "      <td>39</td>\n",
       "      <td>10</td>\n",
       "      <td>2</td>\n",
       "    </tr>\n",
       "    <tr>\n",
       "      <th>395998</th>\n",
       "      <td>75139</td>\n",
       "      <td>1034</td>\n",
       "      <td>2016-12-26</td>\n",
       "      <td>1.062500</td>\n",
       "      <td>1.0</td>\n",
       "      <td>0.0</td>\n",
       "      <td>2047.0</td>\n",
       "      <td>1023.500000</td>\n",
       "      <td>0.0</td>\n",
       "      <td>1.0</td>\n",
       "      <td>...</td>\n",
       "      <td>NaN</td>\n",
       "      <td>NaN</td>\n",
       "      <td>NaN</td>\n",
       "      <td>NaN</td>\n",
       "      <td>NaN</td>\n",
       "      <td>NaN</td>\n",
       "      <td>NaN</td>\n",
       "      <td>203</td>\n",
       "      <td>10</td>\n",
       "      <td>1</td>\n",
       "    </tr>\n",
       "    <tr>\n",
       "      <th>11476</th>\n",
       "      <td>50371</td>\n",
       "      <td>862</td>\n",
       "      <td>2016-12-26</td>\n",
       "      <td>2.200000</td>\n",
       "      <td>1.0</td>\n",
       "      <td>0.0</td>\n",
       "      <td>159.0</td>\n",
       "      <td>159.000000</td>\n",
       "      <td>0.0</td>\n",
       "      <td>1.0</td>\n",
       "      <td>...</td>\n",
       "      <td>NaN</td>\n",
       "      <td>NaN</td>\n",
       "      <td>NaN</td>\n",
       "      <td>NaN</td>\n",
       "      <td>NaN</td>\n",
       "      <td>NaN</td>\n",
       "      <td>NaN</td>\n",
       "      <td>54</td>\n",
       "      <td>10</td>\n",
       "      <td>2</td>\n",
       "    </tr>\n",
       "    <tr>\n",
       "      <th>53571</th>\n",
       "      <td>27268</td>\n",
       "      <td>1143</td>\n",
       "      <td>2016-12-26</td>\n",
       "      <td>0.538462</td>\n",
       "      <td>1.0</td>\n",
       "      <td>0.0</td>\n",
       "      <td>5564.0</td>\n",
       "      <td>2782.000000</td>\n",
       "      <td>0.0</td>\n",
       "      <td>1.0</td>\n",
       "      <td>...</td>\n",
       "      <td>NaN</td>\n",
       "      <td>NaN</td>\n",
       "      <td>NaN</td>\n",
       "      <td>NaN</td>\n",
       "      <td>NaN</td>\n",
       "      <td>NaN</td>\n",
       "      <td>NaN</td>\n",
       "      <td>39</td>\n",
       "      <td>10</td>\n",
       "      <td>1</td>\n",
       "    </tr>\n",
       "    <tr>\n",
       "      <th>396036</th>\n",
       "      <td>75139</td>\n",
       "      <td>1281</td>\n",
       "      <td>2016-12-26</td>\n",
       "      <td>2.000000</td>\n",
       "      <td>1.0</td>\n",
       "      <td>0.0</td>\n",
       "      <td>2047.0</td>\n",
       "      <td>1023.500000</td>\n",
       "      <td>0.0</td>\n",
       "      <td>1.0</td>\n",
       "      <td>...</td>\n",
       "      <td>NaN</td>\n",
       "      <td>NaN</td>\n",
       "      <td>NaN</td>\n",
       "      <td>NaN</td>\n",
       "      <td>NaN</td>\n",
       "      <td>NaN</td>\n",
       "      <td>NaN</td>\n",
       "      <td>203</td>\n",
       "      <td>10</td>\n",
       "      <td>1</td>\n",
       "    </tr>\n",
       "  </tbody>\n",
       "</table>\n",
       "<p>5 rows × 143 columns</p>\n",
       "</div>"
      ],
      "text/plain": [
       "        product_rk  store_location_rk period_start_dt    demand  PROMO1_FLAG  \\\n",
       "0            44467               1143      2016-12-26  1.344828          1.0   \n",
       "395998       75139               1034      2016-12-26  1.062500          1.0   \n",
       "11476        50371                862      2016-12-26  2.200000          1.0   \n",
       "53571        27268               1143      2016-12-26  0.538462          1.0   \n",
       "396036       75139               1281      2016-12-26  2.000000          1.0   \n",
       "\n",
       "        PROMO2_FLAG  PRICE_REGULAR  PRICE_AFTER_DISC  NUM_CONSULTANT  \\\n",
       "0               0.0          312.0        271.285714             0.0   \n",
       "395998          0.0         2047.0       1023.500000             0.0   \n",
       "11476           0.0          159.0        159.000000             0.0   \n",
       "53571           0.0         5564.0       2782.000000             0.0   \n",
       "396036          0.0         2047.0       1023.500000             0.0   \n",
       "\n",
       "        AUTORIZATION_FLAG  ...  \\\n",
       "0                     1.0  ...   \n",
       "395998                1.0  ...   \n",
       "11476                 1.0  ...   \n",
       "53571                 1.0  ...   \n",
       "396036                1.0  ...   \n",
       "\n",
       "        demand_lag52_w112D_keyproduct_rk_store_location_rk_preagmean_agmedian_NO_FILTER_dynamic_rolling  \\\n",
       "0                                                     NaN                                                 \n",
       "395998                                                NaN                                                 \n",
       "11476                                                 NaN                                                 \n",
       "53571                                                 NaN                                                 \n",
       "396036                                                NaN                                                 \n",
       "\n",
       "        demand_lag52_w224D_keyproduct_rk_store_location_rk_preagmean_agmean_NO_FILTER_dynamic_rolling  \\\n",
       "0                                                     NaN                                               \n",
       "395998                                                NaN                                               \n",
       "11476                                                 NaN                                               \n",
       "53571                                                 NaN                                               \n",
       "396036                                                NaN                                               \n",
       "\n",
       "        demand_lag52_w224D_keyproduct_rk_store_location_rk_preagmean_agmedian_NO_FILTER_dynamic_rolling  \\\n",
       "0                                                     NaN                                                 \n",
       "395998                                                NaN                                                 \n",
       "11476                                                 NaN                                                 \n",
       "53571                                                 NaN                                                 \n",
       "396036                                                NaN                                                 \n",
       "\n",
       "        demand_lag52_w728D_keyproduct_rk_store_location_rk_preagmean_agmean_NO_FILTER_dynamic_rolling  \\\n",
       "0                                                     NaN                                               \n",
       "395998                                                NaN                                               \n",
       "11476                                                 NaN                                               \n",
       "53571                                                 NaN                                               \n",
       "396036                                                NaN                                               \n",
       "\n",
       "        demand_lag52_w728D_keyproduct_rk_store_location_rk_preagmean_agmedian_NO_FILTER_dynamic_rolling  \\\n",
       "0                                                     NaN                                                 \n",
       "395998                                                NaN                                                 \n",
       "11476                                                 NaN                                                 \n",
       "53571                                                 NaN                                                 \n",
       "396036                                                NaN                                                 \n",
       "\n",
       "        demand_lag52_w1456D_keyproduct_rk_store_location_rk_preagmean_agmean_NO_FILTER_dynamic_rolling  \\\n",
       "0                                                     NaN                                                \n",
       "395998                                                NaN                                                \n",
       "11476                                                 NaN                                                \n",
       "53571                                                 NaN                                                \n",
       "396036                                                NaN                                                \n",
       "\n",
       "        demand_lag52_w1456D_keyproduct_rk_store_location_rk_preagmean_agmedian_NO_FILTER_dynamic_rolling  \\\n",
       "0                                                     NaN                                                  \n",
       "395998                                                NaN                                                  \n",
       "11476                                                 NaN                                                  \n",
       "53571                                                 NaN                                                  \n",
       "396036                                                NaN                                                  \n",
       "\n",
       "        city  region  label  \n",
       "0         39      10      2  \n",
       "395998   203      10      1  \n",
       "11476     54      10      2  \n",
       "53571     39      10      1  \n",
       "396036   203      10      1  \n",
       "\n",
       "[5 rows x 143 columns]"
      ]
     },
     "execution_count": 17,
     "metadata": {},
     "output_type": "execute_result"
    }
   ],
   "source": [
    "## how to define number of clusters?\n",
    "\n",
    "N_CLUSTERS = 4\n",
    "agcl =  AgglomerativeClustering(n_clusters=N_CLUSTERS)\n",
    "cluster_labels = agcl.fit_predict(demand_top_sku_pivot)\n",
    "\n",
    "## add labels to dataset\n",
    "demand_top_sku_pivot['label'] = cluster_labels\n",
    "df_merged = df_merged.merge(demand_top_sku_pivot.reset_index()[['product_rk', 'label']], on='product_rk')\n",
    "df_merged = df_merged.sort_values('period_start_dt')\n",
    "df_merged.head()"
   ]
  },
  {
   "cell_type": "markdown",
   "id": "1fe42e37",
   "metadata": {},
   "source": [
    "## Predictions"
   ]
  },
  {
   "cell_type": "markdown",
   "id": "3a2befd1",
   "metadata": {},
   "source": [
    "### Splitting data"
   ]
  },
  {
   "cell_type": "code",
   "execution_count": 18,
   "id": "4ed09153",
   "metadata": {},
   "outputs": [
    {
     "name": "stdout",
     "output_type": "stream",
     "text": [
      "Train contains 91.0% of data\n",
      "Test contains 9.0% of data\n"
     ]
    }
   ],
   "source": [
    "## now with labels\n",
    "\n",
    "train_split_date = '2019-10-01'\n",
    "\n",
    "df_merged_train = df_merged[df_merged['period_start_dt'] <= train_split_date]\n",
    "df_merged_test = df_merged[df_merged['period_start_dt'] > train_split_date]\n",
    "\n",
    "\n",
    "print(f'Train contains {round(df_merged_train.shape[0] / df_merged.shape[0], 2) * 100}% of data')\n",
    "print(f'Test contains {round(df_merged_test.shape[0] / df_merged.shape[0], 2) * 100}% of data')"
   ]
  },
  {
   "cell_type": "code",
   "execution_count": 19,
   "id": "2943f6b5",
   "metadata": {
    "ExecuteTime": {
     "end_time": "2022-12-28T17:55:48.043515Z",
     "start_time": "2022-12-28T17:55:48.039370Z"
    }
   },
   "outputs": [],
   "source": [
    "# df[df['period_start_dt'] > '2018-09-17'].groupby('period_start_dt')['label'].count().plot.bar(figsize=(20, 8))"
   ]
  },
  {
   "cell_type": "code",
   "execution_count": 20,
   "id": "c35a4da5",
   "metadata": {
    "ExecuteTime": {
     "end_time": "2022-12-28T17:55:40.477259Z",
     "start_time": "2022-12-28T17:55:39.815032Z"
    }
   },
   "outputs": [],
   "source": [
    "# train_split_date = '2018-12-03'\n",
    "# val_split_date = '2019-05-20'\n",
    "\n",
    "# train = df_merged[df_merged['period_start_dt'] <= train_split_date]\n",
    "# val = df_merged[(df_merged['period_start_dt'] > train_split_date) & (df_merged['period_start_dt'] <= val_split_date)]\n",
    "# test = df_merged[df_merged['period_start_dt'] > val_split_date]\n",
    "\n",
    "\n",
    "# print(f'Train contains {round(train.shape[0] / df_merged.shape[0], 2) * 100}% of data')\n",
    "# print(f'Val contains {round(val.shape[0] / df_merged.shape[0], 2) * 100}% of data')\n",
    "# print(f'Test contains {round(test.shape[0] / df_merged.shape[0], 2) * 100}% of data')"
   ]
  },
  {
   "cell_type": "code",
   "execution_count": 21,
   "id": "d5bbc02f",
   "metadata": {
    "ExecuteTime": {
     "end_time": "2022-12-28T17:56:02.314737Z",
     "start_time": "2022-12-28T17:56:02.222654Z"
    }
   },
   "outputs": [],
   "source": [
    "# main_cols = ['product_rk', 'city']\n",
    "# lag_cols = train.columns[train.columns.str.contains('demand_')]\n",
    "\n",
    "# train_cols = main_cols + list(lag_cols)\n",
    "\n",
    "# X_train, y_train = train[train_cols].values, train['demand']\n",
    "# X_val, y_val = val[train_cols].values, train['demand']\n",
    "# X_test, y_test = test[train_cols].values, test['demand']"
   ]
  },
  {
   "cell_type": "code",
   "execution_count": 23,
   "id": "bd58cb18",
   "metadata": {},
   "outputs": [],
   "source": [
    "main_cols = ['product_rk', 'city']\n",
    "lag_cols = df_merged_train.columns[df_merged_train.columns.str.contains('demand_')]\n",
    "\n",
    "train_cols = main_cols + list(lag_cols)\n",
    "\n",
    "X_train, y_train = df_merged_train[train_cols].values, df_merged_train['demand']\n",
    "X_test, y_test = df_merged_test[train_cols].values, df_merged_test['demand']"
   ]
  },
  {
   "cell_type": "markdown",
   "id": "de668e6f",
   "metadata": {},
   "source": [
    "### No clustering"
   ]
  },
  {
   "cell_type": "code",
   "execution_count": 24,
   "id": "a13070c0",
   "metadata": {
    "ExecuteTime": {
     "end_time": "2022-12-15T14:21:57.574444Z",
     "start_time": "2022-12-15T14:21:57.569451Z"
    }
   },
   "outputs": [
    {
     "data": {
      "application/vnd.jupyter.widget-view+json": {
       "model_id": "c7282150c1794ab4af011df6a0d1e3d8",
       "version_major": 2,
       "version_minor": 0
      },
      "text/plain": [
       "MetricVisualizer(layout=Layout(align_self='stretch', height='500px'))"
      ]
     },
     "metadata": {},
     "output_type": "display_data"
    },
    {
     "name": "stdout",
     "output_type": "stream",
     "text": [
      "Learning rate set to 0.5\n",
      "0:\tlearn: 2.7881405\ttotal: 253ms\tremaining: 25.1s\n",
      "1:\tlearn: 2.7129834\ttotal: 435ms\tremaining: 21.3s\n",
      "2:\tlearn: 2.6771735\ttotal: 637ms\tremaining: 20.6s\n",
      "3:\tlearn: 2.6588302\ttotal: 865ms\tremaining: 20.7s\n",
      "4:\tlearn: 2.6482847\ttotal: 1.07s\tremaining: 20.3s\n",
      "5:\tlearn: 2.6362025\ttotal: 1.24s\tremaining: 19.5s\n",
      "6:\tlearn: 2.6322252\ttotal: 1.47s\tremaining: 19.5s\n",
      "7:\tlearn: 2.6225516\ttotal: 1.7s\tremaining: 19.5s\n",
      "8:\tlearn: 2.6173583\ttotal: 1.84s\tremaining: 18.6s\n",
      "9:\tlearn: 2.6138056\ttotal: 2.07s\tremaining: 18.6s\n",
      "10:\tlearn: 2.6039741\ttotal: 2.22s\tremaining: 18s\n",
      "11:\tlearn: 2.6009854\ttotal: 2.45s\tremaining: 18s\n",
      "12:\tlearn: 2.5974469\ttotal: 2.6s\tremaining: 17.4s\n",
      "13:\tlearn: 2.5911150\ttotal: 2.81s\tremaining: 17.3s\n",
      "14:\tlearn: 2.5857616\ttotal: 2.97s\tremaining: 16.9s\n",
      "15:\tlearn: 2.5837823\ttotal: 3.2s\tremaining: 16.8s\n",
      "16:\tlearn: 2.5759926\ttotal: 3.38s\tremaining: 16.5s\n",
      "17:\tlearn: 2.5741698\ttotal: 3.66s\tremaining: 16.7s\n",
      "18:\tlearn: 2.5642519\ttotal: 3.79s\tremaining: 16.2s\n",
      "19:\tlearn: 2.5586654\ttotal: 3.95s\tremaining: 15.8s\n",
      "20:\tlearn: 2.5553461\ttotal: 4.1s\tremaining: 15.4s\n",
      "21:\tlearn: 2.5418792\ttotal: 4.31s\tremaining: 15.3s\n",
      "22:\tlearn: 2.5396412\ttotal: 4.47s\tremaining: 15s\n",
      "23:\tlearn: 2.5354215\ttotal: 4.65s\tremaining: 14.7s\n",
      "24:\tlearn: 2.5291411\ttotal: 4.87s\tremaining: 14.6s\n",
      "25:\tlearn: 2.5215306\ttotal: 5.08s\tremaining: 14.5s\n",
      "26:\tlearn: 2.5187288\ttotal: 5.31s\tremaining: 14.4s\n",
      "27:\tlearn: 2.5165783\ttotal: 5.47s\tremaining: 14.1s\n",
      "28:\tlearn: 2.5119313\ttotal: 5.63s\tremaining: 13.8s\n",
      "29:\tlearn: 2.5107359\ttotal: 5.85s\tremaining: 13.6s\n",
      "30:\tlearn: 2.5098250\ttotal: 6.1s\tremaining: 13.6s\n",
      "31:\tlearn: 2.5087399\ttotal: 6.3s\tremaining: 13.4s\n",
      "32:\tlearn: 2.5044936\ttotal: 6.44s\tremaining: 13.1s\n",
      "33:\tlearn: 2.4990146\ttotal: 6.59s\tremaining: 12.8s\n",
      "34:\tlearn: 2.4978007\ttotal: 6.78s\tremaining: 12.6s\n",
      "35:\tlearn: 2.4965647\ttotal: 7.03s\tremaining: 12.5s\n",
      "36:\tlearn: 2.4956883\ttotal: 7.27s\tremaining: 12.4s\n",
      "37:\tlearn: 2.4855674\ttotal: 7.43s\tremaining: 12.1s\n",
      "38:\tlearn: 2.4832677\ttotal: 7.7s\tremaining: 12s\n",
      "39:\tlearn: 2.4795382\ttotal: 7.85s\tremaining: 11.8s\n",
      "40:\tlearn: 2.4768554\ttotal: 8.01s\tremaining: 11.5s\n",
      "41:\tlearn: 2.4735562\ttotal: 8.16s\tremaining: 11.3s\n",
      "42:\tlearn: 2.4712234\ttotal: 8.3s\tremaining: 11s\n",
      "43:\tlearn: 2.4683914\ttotal: 8.46s\tremaining: 10.8s\n",
      "44:\tlearn: 2.4641903\ttotal: 8.67s\tremaining: 10.6s\n",
      "45:\tlearn: 2.4615014\ttotal: 8.81s\tremaining: 10.3s\n",
      "46:\tlearn: 2.4595050\ttotal: 8.97s\tremaining: 10.1s\n",
      "47:\tlearn: 2.4584555\ttotal: 9.18s\tremaining: 9.95s\n",
      "48:\tlearn: 2.4557218\ttotal: 9.35s\tremaining: 9.73s\n",
      "49:\tlearn: 2.4532327\ttotal: 9.52s\tremaining: 9.52s\n",
      "50:\tlearn: 2.4494957\ttotal: 9.65s\tremaining: 9.27s\n",
      "51:\tlearn: 2.4470815\ttotal: 9.79s\tremaining: 9.03s\n",
      "52:\tlearn: 2.4450389\ttotal: 9.97s\tremaining: 8.84s\n",
      "53:\tlearn: 2.4433897\ttotal: 10.1s\tremaining: 8.63s\n",
      "54:\tlearn: 2.4409847\ttotal: 10.3s\tremaining: 8.43s\n",
      "55:\tlearn: 2.4380209\ttotal: 10.4s\tremaining: 8.21s\n",
      "56:\tlearn: 2.4374427\ttotal: 10.7s\tremaining: 8.1s\n",
      "57:\tlearn: 2.4343326\ttotal: 10.9s\tremaining: 7.89s\n",
      "58:\tlearn: 2.4328649\ttotal: 11.1s\tremaining: 7.71s\n",
      "59:\tlearn: 2.4308192\ttotal: 11.3s\tremaining: 7.51s\n",
      "60:\tlearn: 2.4298899\ttotal: 11.4s\tremaining: 7.31s\n",
      "61:\tlearn: 2.4282787\ttotal: 11.7s\tremaining: 7.18s\n",
      "62:\tlearn: 2.4203466\ttotal: 11.9s\tremaining: 6.98s\n",
      "63:\tlearn: 2.4196081\ttotal: 12s\tremaining: 6.78s\n",
      "64:\tlearn: 2.4184537\ttotal: 12.2s\tremaining: 6.57s\n",
      "65:\tlearn: 2.4172102\ttotal: 12.4s\tremaining: 6.37s\n",
      "66:\tlearn: 2.4157618\ttotal: 12.5s\tremaining: 6.17s\n",
      "67:\tlearn: 2.4146454\ttotal: 12.8s\tremaining: 6.01s\n",
      "68:\tlearn: 2.4141322\ttotal: 13s\tremaining: 5.86s\n",
      "69:\tlearn: 2.4128558\ttotal: 13.2s\tremaining: 5.64s\n",
      "70:\tlearn: 2.4122148\ttotal: 13.4s\tremaining: 5.49s\n",
      "71:\tlearn: 2.4061831\ttotal: 13.6s\tremaining: 5.29s\n",
      "72:\tlearn: 2.4057423\ttotal: 13.9s\tremaining: 5.13s\n",
      "73:\tlearn: 2.4031146\ttotal: 14s\tremaining: 4.94s\n",
      "74:\tlearn: 2.4023055\ttotal: 14.2s\tremaining: 4.75s\n",
      "75:\tlearn: 2.4012542\ttotal: 14.5s\tremaining: 4.57s\n",
      "76:\tlearn: 2.4004618\ttotal: 14.7s\tremaining: 4.4s\n",
      "77:\tlearn: 2.3998321\ttotal: 15.2s\tremaining: 4.29s\n",
      "78:\tlearn: 2.3991446\ttotal: 15.5s\tremaining: 4.11s\n",
      "79:\tlearn: 2.3971623\ttotal: 15.7s\tremaining: 3.92s\n",
      "80:\tlearn: 2.3955612\ttotal: 15.9s\tremaining: 3.73s\n",
      "81:\tlearn: 2.3939344\ttotal: 16.1s\tremaining: 3.53s\n",
      "82:\tlearn: 2.3921733\ttotal: 16.2s\tremaining: 3.33s\n",
      "83:\tlearn: 2.3900593\ttotal: 16.4s\tremaining: 3.13s\n",
      "84:\tlearn: 2.3895780\ttotal: 16.8s\tremaining: 2.96s\n",
      "85:\tlearn: 2.3869620\ttotal: 16.9s\tremaining: 2.75s\n",
      "86:\tlearn: 2.3859870\ttotal: 17.1s\tremaining: 2.56s\n",
      "87:\tlearn: 2.3816543\ttotal: 17.3s\tremaining: 2.36s\n",
      "88:\tlearn: 2.3808606\ttotal: 17.6s\tremaining: 2.17s\n",
      "89:\tlearn: 2.3800793\ttotal: 17.9s\tremaining: 1.99s\n",
      "90:\tlearn: 2.3787753\ttotal: 18.1s\tremaining: 1.79s\n",
      "91:\tlearn: 2.3772547\ttotal: 18.2s\tremaining: 1.59s\n",
      "92:\tlearn: 2.3760484\ttotal: 18.4s\tremaining: 1.39s\n",
      "93:\tlearn: 2.3749737\ttotal: 18.7s\tremaining: 1.19s\n",
      "94:\tlearn: 2.3746565\ttotal: 19s\tremaining: 1000ms\n",
      "95:\tlearn: 2.3741995\ttotal: 19.2s\tremaining: 800ms\n",
      "96:\tlearn: 2.3728333\ttotal: 19.4s\tremaining: 599ms\n",
      "97:\tlearn: 2.3719291\ttotal: 19.6s\tremaining: 399ms\n",
      "98:\tlearn: 2.3708902\ttotal: 19.8s\tremaining: 200ms\n",
      "99:\tlearn: 2.3697165\ttotal: 20s\tremaining: 0us\n"
     ]
    },
    {
     "data": {
      "text/plain": [
       "<catboost.core.CatBoostRegressor at 0x7ff04a012a10>"
      ]
     },
     "execution_count": 24,
     "metadata": {},
     "output_type": "execute_result"
    }
   ],
   "source": [
    "from catboost import CatBoostRegressor\n",
    "from sklearn.metrics import mean_squared_error\n",
    "\n",
    "cat = CatBoostRegressor(iterations=100)\n",
    "cat.fit(X_train, y_train, plot=True)"
   ]
  },
  {
   "cell_type": "code",
   "execution_count": 25,
   "id": "0f02c8ac",
   "metadata": {
    "ExecuteTime": {
     "end_time": "2022-12-15T14:23:04.461152Z",
     "start_time": "2022-12-15T14:23:04.363402Z"
    }
   },
   "outputs": [],
   "source": [
    "preds = cat.predict(X_test)"
   ]
  },
  {
   "cell_type": "code",
   "execution_count": 26,
   "id": "03cb4160",
   "metadata": {
    "ExecuteTime": {
     "end_time": "2022-12-15T14:24:06.879403Z",
     "start_time": "2022-12-15T14:24:06.867690Z"
    }
   },
   "outputs": [
    {
     "name": "stdout",
     "output_type": "stream",
     "text": [
      "Error without clustering: 4.436971401822805\n"
     ]
    }
   ],
   "source": [
    "mse = mean_squared_error(preds, y_test)\n",
    "print('Error without clustering:', mse)"
   ]
  },
  {
   "cell_type": "markdown",
   "id": "2e96ccd4",
   "metadata": {},
   "source": [
    "### With clustering"
   ]
  },
  {
   "cell_type": "code",
   "execution_count": 28,
   "id": "81345ad6",
   "metadata": {
    "ExecuteTime": {
     "end_time": "2022-12-15T14:56:24.662566Z",
     "start_time": "2022-12-15T14:55:46.730323Z"
    }
   },
   "outputs": [
    {
     "name": "stdout",
     "output_type": "stream",
     "text": [
      "Learning rate set to 0.5\n",
      "0:\tlearn: 1.8679144\ttotal: 20.6ms\tremaining: 2.04s\n",
      "1:\tlearn: 1.8632363\ttotal: 39.3ms\tremaining: 1.92s\n",
      "2:\tlearn: 1.8594138\ttotal: 58.6ms\tremaining: 1.89s\n",
      "3:\tlearn: 1.8573105\ttotal: 78.7ms\tremaining: 1.89s\n",
      "4:\tlearn: 1.8555872\ttotal: 99.5ms\tremaining: 1.89s\n",
      "5:\tlearn: 1.8550995\ttotal: 119ms\tremaining: 1.86s\n",
      "6:\tlearn: 1.8540859\ttotal: 140ms\tremaining: 1.86s\n",
      "7:\tlearn: 1.8525716\ttotal: 160ms\tremaining: 1.84s\n",
      "8:\tlearn: 1.8498961\ttotal: 183ms\tremaining: 1.85s\n",
      "9:\tlearn: 1.8490830\ttotal: 207ms\tremaining: 1.86s\n",
      "10:\tlearn: 1.8480646\ttotal: 229ms\tremaining: 1.85s\n",
      "11:\tlearn: 1.8476427\ttotal: 248ms\tremaining: 1.82s\n",
      "12:\tlearn: 1.8465972\ttotal: 273ms\tremaining: 1.82s\n",
      "13:\tlearn: 1.8456636\ttotal: 299ms\tremaining: 1.84s\n",
      "14:\tlearn: 1.8453508\ttotal: 326ms\tremaining: 1.84s\n",
      "15:\tlearn: 1.8450958\ttotal: 347ms\tremaining: 1.82s\n",
      "16:\tlearn: 1.8446550\ttotal: 369ms\tremaining: 1.8s\n",
      "17:\tlearn: 1.8431616\ttotal: 397ms\tremaining: 1.81s\n",
      "18:\tlearn: 1.8425871\ttotal: 427ms\tremaining: 1.82s\n",
      "19:\tlearn: 1.8422633\ttotal: 453ms\tremaining: 1.81s\n",
      "20:\tlearn: 1.8413179\ttotal: 476ms\tremaining: 1.79s\n",
      "21:\tlearn: 1.8409317\ttotal: 496ms\tremaining: 1.76s\n",
      "22:\tlearn: 1.8400060\ttotal: 515ms\tremaining: 1.73s\n",
      "23:\tlearn: 1.8396326\ttotal: 537ms\tremaining: 1.7s\n",
      "24:\tlearn: 1.8389568\ttotal: 558ms\tremaining: 1.67s\n",
      "25:\tlearn: 1.8383048\ttotal: 578ms\tremaining: 1.65s\n",
      "26:\tlearn: 1.8381252\ttotal: 598ms\tremaining: 1.62s\n",
      "27:\tlearn: 1.8375115\ttotal: 623ms\tremaining: 1.6s\n",
      "28:\tlearn: 1.8369712\ttotal: 647ms\tremaining: 1.58s\n",
      "29:\tlearn: 1.8366054\ttotal: 671ms\tremaining: 1.57s\n",
      "30:\tlearn: 1.8361663\ttotal: 694ms\tremaining: 1.54s\n",
      "31:\tlearn: 1.8359370\ttotal: 715ms\tremaining: 1.52s\n",
      "32:\tlearn: 1.8355302\ttotal: 736ms\tremaining: 1.49s\n",
      "33:\tlearn: 1.8348852\ttotal: 757ms\tremaining: 1.47s\n",
      "34:\tlearn: 1.8347050\ttotal: 774ms\tremaining: 1.44s\n",
      "35:\tlearn: 1.8345336\ttotal: 790ms\tremaining: 1.4s\n",
      "36:\tlearn: 1.8342242\ttotal: 810ms\tremaining: 1.38s\n",
      "37:\tlearn: 1.8336974\ttotal: 829ms\tremaining: 1.35s\n",
      "38:\tlearn: 1.8335936\ttotal: 847ms\tremaining: 1.32s\n",
      "39:\tlearn: 1.8333360\ttotal: 866ms\tremaining: 1.3s\n",
      "40:\tlearn: 1.8332100\ttotal: 884ms\tremaining: 1.27s\n",
      "41:\tlearn: 1.8326770\ttotal: 904ms\tremaining: 1.25s\n",
      "42:\tlearn: 1.8322165\ttotal: 928ms\tremaining: 1.23s\n",
      "43:\tlearn: 1.8319102\ttotal: 949ms\tremaining: 1.21s\n",
      "44:\tlearn: 1.8315815\ttotal: 969ms\tremaining: 1.18s\n",
      "45:\tlearn: 1.8313338\ttotal: 989ms\tremaining: 1.16s\n",
      "46:\tlearn: 1.8311705\ttotal: 1.01s\tremaining: 1.14s\n",
      "47:\tlearn: 1.8308882\ttotal: 1.03s\tremaining: 1.11s\n",
      "48:\tlearn: 1.8305381\ttotal: 1.05s\tremaining: 1.09s\n",
      "49:\tlearn: 1.8304751\ttotal: 1.07s\tremaining: 1.07s\n",
      "50:\tlearn: 1.8302745\ttotal: 1.09s\tremaining: 1.05s\n",
      "51:\tlearn: 1.8300608\ttotal: 1.11s\tremaining: 1.02s\n",
      "52:\tlearn: 1.8299564\ttotal: 1.12s\tremaining: 997ms\n",
      "53:\tlearn: 1.8296838\ttotal: 1.14s\tremaining: 973ms\n",
      "54:\tlearn: 1.8296449\ttotal: 1.16s\tremaining: 949ms\n",
      "55:\tlearn: 1.8294870\ttotal: 1.18s\tremaining: 925ms\n",
      "56:\tlearn: 1.8294062\ttotal: 1.19s\tremaining: 901ms\n",
      "57:\tlearn: 1.8293122\ttotal: 1.22s\tremaining: 881ms\n",
      "58:\tlearn: 1.8290726\ttotal: 1.24s\tremaining: 865ms\n",
      "59:\tlearn: 1.8288562\ttotal: 1.27s\tremaining: 847ms\n",
      "60:\tlearn: 1.8287202\ttotal: 1.29s\tremaining: 824ms\n",
      "61:\tlearn: 1.8285091\ttotal: 1.3s\tremaining: 800ms\n",
      "62:\tlearn: 1.8282968\ttotal: 1.33s\tremaining: 779ms\n",
      "63:\tlearn: 1.8278847\ttotal: 1.35s\tremaining: 757ms\n",
      "64:\tlearn: 1.8276182\ttotal: 1.37s\tremaining: 736ms\n",
      "65:\tlearn: 1.8274822\ttotal: 1.38s\tremaining: 713ms\n",
      "66:\tlearn: 1.8273099\ttotal: 1.4s\tremaining: 692ms\n",
      "67:\tlearn: 1.8272370\ttotal: 1.43s\tremaining: 671ms\n",
      "68:\tlearn: 1.8270305\ttotal: 1.45s\tremaining: 652ms\n",
      "69:\tlearn: 1.8267012\ttotal: 1.47s\tremaining: 631ms\n",
      "70:\tlearn: 1.8265555\ttotal: 1.5s\tremaining: 611ms\n",
      "71:\tlearn: 1.8263815\ttotal: 1.52s\tremaining: 590ms\n",
      "72:\tlearn: 1.8262474\ttotal: 1.54s\tremaining: 568ms\n",
      "73:\tlearn: 1.8261561\ttotal: 1.56s\tremaining: 547ms\n",
      "74:\tlearn: 1.8259489\ttotal: 1.58s\tremaining: 527ms\n",
      "75:\tlearn: 1.8258528\ttotal: 1.6s\tremaining: 506ms\n",
      "76:\tlearn: 1.8257782\ttotal: 1.63s\tremaining: 486ms\n",
      "77:\tlearn: 1.8256598\ttotal: 1.65s\tremaining: 465ms\n",
      "78:\tlearn: 1.8255949\ttotal: 1.67s\tremaining: 443ms\n",
      "79:\tlearn: 1.8255279\ttotal: 1.69s\tremaining: 422ms\n",
      "80:\tlearn: 1.8254417\ttotal: 1.71s\tremaining: 401ms\n",
      "81:\tlearn: 1.8253115\ttotal: 1.73s\tremaining: 380ms\n",
      "82:\tlearn: 1.8252489\ttotal: 1.75s\tremaining: 359ms\n",
      "83:\tlearn: 1.8252142\ttotal: 1.77s\tremaining: 337ms\n",
      "84:\tlearn: 1.8251130\ttotal: 1.79s\tremaining: 316ms\n",
      "85:\tlearn: 1.8250714\ttotal: 1.81s\tremaining: 294ms\n",
      "86:\tlearn: 1.8249595\ttotal: 1.82s\tremaining: 273ms\n",
      "87:\tlearn: 1.8248652\ttotal: 1.84s\tremaining: 251ms\n",
      "88:\tlearn: 1.8247124\ttotal: 1.86s\tremaining: 230ms\n",
      "89:\tlearn: 1.8246646\ttotal: 1.88s\tremaining: 209ms\n",
      "90:\tlearn: 1.8245879\ttotal: 1.9s\tremaining: 188ms\n",
      "91:\tlearn: 1.8245453\ttotal: 1.92s\tremaining: 167ms\n",
      "92:\tlearn: 1.8244291\ttotal: 1.94s\tremaining: 146ms\n",
      "93:\tlearn: 1.8243753\ttotal: 1.96s\tremaining: 125ms\n",
      "94:\tlearn: 1.8242464\ttotal: 1.98s\tremaining: 104ms\n",
      "95:\tlearn: 1.8241473\ttotal: 1.99s\tremaining: 83.1ms\n",
      "96:\tlearn: 1.8240682\ttotal: 2.01s\tremaining: 62.3ms\n",
      "97:\tlearn: 1.8239399\ttotal: 2.03s\tremaining: 41.5ms\n",
      "98:\tlearn: 1.8238830\ttotal: 2.05s\tremaining: 20.7ms\n",
      "99:\tlearn: 1.8237611\ttotal: 2.08s\tremaining: 0us\n",
      "Learning rate set to 0.5\n",
      "0:\tlearn: 0.8361903\ttotal: 27.7ms\tremaining: 2.74s\n",
      "1:\tlearn: 0.8330516\ttotal: 53ms\tremaining: 2.6s\n",
      "2:\tlearn: 0.8308288\ttotal: 78.8ms\tremaining: 2.55s\n",
      "3:\tlearn: 0.8302498\ttotal: 105ms\tremaining: 2.51s\n",
      "4:\tlearn: 0.8292007\ttotal: 133ms\tremaining: 2.52s\n",
      "5:\tlearn: 0.8281674\ttotal: 159ms\tremaining: 2.5s\n",
      "6:\tlearn: 0.8277942\ttotal: 189ms\tremaining: 2.51s\n",
      "7:\tlearn: 0.8273094\ttotal: 221ms\tremaining: 2.55s\n",
      "8:\tlearn: 0.8266461\ttotal: 253ms\tremaining: 2.55s\n",
      "9:\tlearn: 0.8258974\ttotal: 283ms\tremaining: 2.55s\n",
      "10:\tlearn: 0.8257540\ttotal: 309ms\tremaining: 2.5s\n",
      "11:\tlearn: 0.8254534\ttotal: 334ms\tremaining: 2.45s\n",
      "12:\tlearn: 0.8252134\ttotal: 358ms\tremaining: 2.4s\n",
      "13:\tlearn: 0.8247638\ttotal: 389ms\tremaining: 2.39s\n",
      "14:\tlearn: 0.8244579\ttotal: 421ms\tremaining: 2.38s\n",
      "15:\tlearn: 0.8238298\ttotal: 451ms\tremaining: 2.37s\n",
      "16:\tlearn: 0.8235886\ttotal: 473ms\tremaining: 2.31s\n",
      "17:\tlearn: 0.8231517\ttotal: 498ms\tremaining: 2.27s\n",
      "18:\tlearn: 0.8229826\ttotal: 527ms\tremaining: 2.25s\n",
      "19:\tlearn: 0.8227573\ttotal: 554ms\tremaining: 2.22s\n",
      "20:\tlearn: 0.8224018\ttotal: 582ms\tremaining: 2.19s\n",
      "21:\tlearn: 0.8223220\ttotal: 614ms\tremaining: 2.17s\n",
      "22:\tlearn: 0.8222298\ttotal: 638ms\tremaining: 2.13s\n",
      "23:\tlearn: 0.8221427\ttotal: 665ms\tremaining: 2.1s\n",
      "24:\tlearn: 0.8218555\ttotal: 693ms\tremaining: 2.08s\n",
      "25:\tlearn: 0.8216066\ttotal: 720ms\tremaining: 2.05s\n",
      "26:\tlearn: 0.8215142\ttotal: 743ms\tremaining: 2.01s\n",
      "27:\tlearn: 0.8213062\ttotal: 769ms\tremaining: 1.98s\n",
      "28:\tlearn: 0.8212481\ttotal: 791ms\tremaining: 1.94s\n",
      "29:\tlearn: 0.8211771\ttotal: 817ms\tremaining: 1.91s\n",
      "30:\tlearn: 0.8209811\ttotal: 848ms\tremaining: 1.89s\n",
      "31:\tlearn: 0.8204303\ttotal: 879ms\tremaining: 1.87s\n",
      "32:\tlearn: 0.8201641\ttotal: 908ms\tremaining: 1.84s\n",
      "33:\tlearn: 0.8200709\ttotal: 934ms\tremaining: 1.81s\n",
      "34:\tlearn: 0.8198092\ttotal: 968ms\tremaining: 1.8s\n",
      "35:\tlearn: 0.8196751\ttotal: 1s\tremaining: 1.78s\n",
      "36:\tlearn: 0.8194958\ttotal: 1.03s\tremaining: 1.75s\n",
      "37:\tlearn: 0.8193806\ttotal: 1.06s\tremaining: 1.73s\n",
      "38:\tlearn: 0.8193124\ttotal: 1.09s\tremaining: 1.7s\n",
      "39:\tlearn: 0.8191594\ttotal: 1.12s\tremaining: 1.68s\n",
      "40:\tlearn: 0.8189388\ttotal: 1.15s\tremaining: 1.66s\n",
      "41:\tlearn: 0.8188562\ttotal: 1.18s\tremaining: 1.63s\n",
      "42:\tlearn: 0.8187195\ttotal: 1.21s\tremaining: 1.6s\n",
      "43:\tlearn: 0.8186138\ttotal: 1.24s\tremaining: 1.58s\n",
      "44:\tlearn: 0.8185275\ttotal: 1.27s\tremaining: 1.55s\n",
      "45:\tlearn: 0.8184879\ttotal: 1.29s\tremaining: 1.52s\n",
      "46:\tlearn: 0.8183027\ttotal: 1.32s\tremaining: 1.49s\n",
      "47:\tlearn: 0.8180527\ttotal: 1.35s\tremaining: 1.47s\n",
      "48:\tlearn: 0.8178932\ttotal: 1.39s\tremaining: 1.44s\n",
      "49:\tlearn: 0.8178615\ttotal: 1.41s\tremaining: 1.41s\n",
      "50:\tlearn: 0.8178470\ttotal: 1.44s\tremaining: 1.38s\n",
      "51:\tlearn: 0.8177751\ttotal: 1.47s\tremaining: 1.35s\n",
      "52:\tlearn: 0.8177262\ttotal: 1.49s\tremaining: 1.32s\n",
      "53:\tlearn: 0.8176247\ttotal: 1.52s\tremaining: 1.29s\n",
      "54:\tlearn: 0.8174527\ttotal: 1.55s\tremaining: 1.27s\n",
      "55:\tlearn: 0.8174052\ttotal: 1.57s\tremaining: 1.24s\n",
      "56:\tlearn: 0.8173089\ttotal: 1.6s\tremaining: 1.21s\n",
      "57:\tlearn: 0.8172300\ttotal: 1.62s\tremaining: 1.18s\n",
      "58:\tlearn: 0.8171650\ttotal: 1.65s\tremaining: 1.15s\n",
      "59:\tlearn: 0.8171022\ttotal: 1.68s\tremaining: 1.12s\n",
      "60:\tlearn: 0.8170812\ttotal: 1.73s\tremaining: 1.11s\n",
      "61:\tlearn: 0.8170252\ttotal: 1.76s\tremaining: 1.08s\n",
      "62:\tlearn: 0.8169449\ttotal: 1.8s\tremaining: 1.05s\n",
      "63:\tlearn: 0.8169190\ttotal: 1.82s\tremaining: 1.02s\n",
      "64:\tlearn: 0.8168758\ttotal: 1.85s\tremaining: 999ms\n"
     ]
    },
    {
     "name": "stdout",
     "output_type": "stream",
     "text": [
      "65:\tlearn: 0.8168384\ttotal: 1.89s\tremaining: 973ms\n",
      "66:\tlearn: 0.8167975\ttotal: 1.93s\tremaining: 948ms\n",
      "67:\tlearn: 0.8167644\ttotal: 1.96s\tremaining: 920ms\n",
      "68:\tlearn: 0.8167178\ttotal: 1.99s\tremaining: 892ms\n",
      "69:\tlearn: 0.8166867\ttotal: 2.02s\tremaining: 864ms\n",
      "70:\tlearn: 0.8166359\ttotal: 2.04s\tremaining: 835ms\n",
      "71:\tlearn: 0.8166090\ttotal: 2.08s\tremaining: 807ms\n",
      "72:\tlearn: 0.8165430\ttotal: 2.1s\tremaining: 779ms\n",
      "73:\tlearn: 0.8165074\ttotal: 2.13s\tremaining: 750ms\n",
      "74:\tlearn: 0.8164694\ttotal: 2.17s\tremaining: 722ms\n",
      "75:\tlearn: 0.8164261\ttotal: 2.19s\tremaining: 693ms\n",
      "76:\tlearn: 0.8163965\ttotal: 2.23s\tremaining: 665ms\n",
      "77:\tlearn: 0.8163198\ttotal: 2.26s\tremaining: 637ms\n",
      "78:\tlearn: 0.8162480\ttotal: 2.29s\tremaining: 609ms\n",
      "79:\tlearn: 0.8161932\ttotal: 2.32s\tremaining: 581ms\n",
      "80:\tlearn: 0.8161808\ttotal: 2.35s\tremaining: 552ms\n",
      "81:\tlearn: 0.8161360\ttotal: 2.39s\tremaining: 524ms\n",
      "82:\tlearn: 0.8161244\ttotal: 2.42s\tremaining: 495ms\n",
      "83:\tlearn: 0.8161140\ttotal: 2.44s\tremaining: 465ms\n",
      "84:\tlearn: 0.8160943\ttotal: 2.48s\tremaining: 437ms\n",
      "85:\tlearn: 0.8160661\ttotal: 2.51s\tremaining: 408ms\n",
      "86:\tlearn: 0.8160149\ttotal: 2.54s\tremaining: 380ms\n",
      "87:\tlearn: 0.8160057\ttotal: 2.58s\tremaining: 351ms\n",
      "88:\tlearn: 0.8159545\ttotal: 2.6s\tremaining: 322ms\n",
      "89:\tlearn: 0.8159334\ttotal: 2.63s\tremaining: 293ms\n",
      "90:\tlearn: 0.8158875\ttotal: 2.66s\tremaining: 263ms\n",
      "91:\tlearn: 0.8158534\ttotal: 2.69s\tremaining: 234ms\n",
      "92:\tlearn: 0.8158301\ttotal: 2.72s\tremaining: 205ms\n",
      "93:\tlearn: 0.8158137\ttotal: 2.74s\tremaining: 175ms\n",
      "94:\tlearn: 0.8158004\ttotal: 2.78s\tremaining: 146ms\n",
      "95:\tlearn: 0.8157785\ttotal: 2.82s\tremaining: 117ms\n",
      "96:\tlearn: 0.8157548\ttotal: 2.86s\tremaining: 88.4ms\n",
      "97:\tlearn: 0.8157450\ttotal: 2.89s\tremaining: 59ms\n",
      "98:\tlearn: 0.8157189\ttotal: 2.93s\tremaining: 29.6ms\n",
      "99:\tlearn: 0.8156981\ttotal: 2.97s\tremaining: 0us\n",
      "Learning rate set to 0.5\n",
      "0:\tlearn: 0.6793961\ttotal: 19.8ms\tremaining: 1.96s\n",
      "1:\tlearn: 0.6745165\ttotal: 39.3ms\tremaining: 1.92s\n",
      "2:\tlearn: 0.6716319\ttotal: 57.2ms\tremaining: 1.85s\n",
      "3:\tlearn: 0.6707855\ttotal: 76.6ms\tremaining: 1.84s\n",
      "4:\tlearn: 0.6701089\ttotal: 95ms\tremaining: 1.8s\n",
      "5:\tlearn: 0.6685170\ttotal: 117ms\tremaining: 1.83s\n",
      "6:\tlearn: 0.6675914\ttotal: 137ms\tremaining: 1.83s\n",
      "7:\tlearn: 0.6669897\ttotal: 155ms\tremaining: 1.79s\n",
      "8:\tlearn: 0.6665980\ttotal: 174ms\tremaining: 1.75s\n",
      "9:\tlearn: 0.6658612\ttotal: 191ms\tremaining: 1.72s\n",
      "10:\tlearn: 0.6656563\ttotal: 211ms\tremaining: 1.71s\n",
      "11:\tlearn: 0.6653035\ttotal: 232ms\tremaining: 1.7s\n",
      "12:\tlearn: 0.6644486\ttotal: 253ms\tremaining: 1.69s\n",
      "13:\tlearn: 0.6640238\ttotal: 275ms\tremaining: 1.69s\n",
      "14:\tlearn: 0.6637289\ttotal: 294ms\tremaining: 1.66s\n",
      "15:\tlearn: 0.6634590\ttotal: 318ms\tremaining: 1.67s\n",
      "16:\tlearn: 0.6634421\ttotal: 331ms\tremaining: 1.62s\n",
      "17:\tlearn: 0.6632276\ttotal: 349ms\tremaining: 1.59s\n",
      "18:\tlearn: 0.6631024\ttotal: 373ms\tremaining: 1.59s\n",
      "19:\tlearn: 0.6629256\ttotal: 397ms\tremaining: 1.59s\n",
      "20:\tlearn: 0.6627423\ttotal: 420ms\tremaining: 1.58s\n",
      "21:\tlearn: 0.6625806\ttotal: 443ms\tremaining: 1.57s\n",
      "22:\tlearn: 0.6624030\ttotal: 462ms\tremaining: 1.54s\n",
      "23:\tlearn: 0.6622455\ttotal: 479ms\tremaining: 1.52s\n",
      "24:\tlearn: 0.6621400\ttotal: 499ms\tremaining: 1.5s\n",
      "25:\tlearn: 0.6620324\ttotal: 515ms\tremaining: 1.47s\n",
      "26:\tlearn: 0.6617361\ttotal: 534ms\tremaining: 1.44s\n",
      "27:\tlearn: 0.6615166\ttotal: 555ms\tremaining: 1.43s\n",
      "28:\tlearn: 0.6611470\ttotal: 577ms\tremaining: 1.41s\n",
      "29:\tlearn: 0.6608476\ttotal: 602ms\tremaining: 1.4s\n",
      "30:\tlearn: 0.6606816\ttotal: 620ms\tremaining: 1.38s\n",
      "31:\tlearn: 0.6605615\ttotal: 639ms\tremaining: 1.36s\n",
      "32:\tlearn: 0.6605162\ttotal: 655ms\tremaining: 1.33s\n",
      "33:\tlearn: 0.6603598\ttotal: 675ms\tremaining: 1.31s\n",
      "34:\tlearn: 0.6601676\ttotal: 696ms\tremaining: 1.29s\n",
      "35:\tlearn: 0.6599093\ttotal: 719ms\tremaining: 1.28s\n",
      "36:\tlearn: 0.6597753\ttotal: 740ms\tremaining: 1.26s\n",
      "37:\tlearn: 0.6596522\ttotal: 761ms\tremaining: 1.24s\n",
      "38:\tlearn: 0.6595683\ttotal: 782ms\tremaining: 1.22s\n",
      "39:\tlearn: 0.6593328\ttotal: 811ms\tremaining: 1.22s\n",
      "40:\tlearn: 0.6592818\ttotal: 834ms\tremaining: 1.2s\n",
      "41:\tlearn: 0.6591854\ttotal: 858ms\tremaining: 1.19s\n",
      "42:\tlearn: 0.6590465\ttotal: 882ms\tremaining: 1.17s\n",
      "43:\tlearn: 0.6589885\ttotal: 902ms\tremaining: 1.15s\n",
      "44:\tlearn: 0.6589320\ttotal: 928ms\tremaining: 1.13s\n",
      "45:\tlearn: 0.6588520\ttotal: 952ms\tremaining: 1.12s\n",
      "46:\tlearn: 0.6587647\ttotal: 974ms\tremaining: 1.1s\n",
      "47:\tlearn: 0.6587082\ttotal: 994ms\tremaining: 1.08s\n",
      "48:\tlearn: 0.6586895\ttotal: 1.01s\tremaining: 1.05s\n",
      "49:\tlearn: 0.6585908\ttotal: 1.04s\tremaining: 1.04s\n",
      "50:\tlearn: 0.6585268\ttotal: 1.06s\tremaining: 1.01s\n",
      "51:\tlearn: 0.6584104\ttotal: 1.08s\tremaining: 995ms\n",
      "52:\tlearn: 0.6582893\ttotal: 1.1s\tremaining: 975ms\n",
      "53:\tlearn: 0.6581957\ttotal: 1.12s\tremaining: 955ms\n",
      "54:\tlearn: 0.6581293\ttotal: 1.14s\tremaining: 933ms\n",
      "55:\tlearn: 0.6580802\ttotal: 1.16s\tremaining: 914ms\n",
      "56:\tlearn: 0.6580189\ttotal: 1.19s\tremaining: 895ms\n",
      "57:\tlearn: 0.6579942\ttotal: 1.21s\tremaining: 877ms\n",
      "58:\tlearn: 0.6579793\ttotal: 1.23s\tremaining: 856ms\n",
      "59:\tlearn: 0.6579588\ttotal: 1.25s\tremaining: 833ms\n",
      "60:\tlearn: 0.6579287\ttotal: 1.27s\tremaining: 810ms\n",
      "61:\tlearn: 0.6579029\ttotal: 1.29s\tremaining: 790ms\n",
      "62:\tlearn: 0.6578755\ttotal: 1.31s\tremaining: 767ms\n",
      "63:\tlearn: 0.6578329\ttotal: 1.33s\tremaining: 747ms\n",
      "64:\tlearn: 0.6577920\ttotal: 1.35s\tremaining: 727ms\n",
      "65:\tlearn: 0.6577210\ttotal: 1.37s\tremaining: 707ms\n",
      "66:\tlearn: 0.6577030\ttotal: 1.39s\tremaining: 685ms\n",
      "67:\tlearn: 0.6576697\ttotal: 1.41s\tremaining: 665ms\n",
      "68:\tlearn: 0.6576197\ttotal: 1.44s\tremaining: 647ms\n",
      "69:\tlearn: 0.6575783\ttotal: 1.46s\tremaining: 628ms\n",
      "70:\tlearn: 0.6575226\ttotal: 1.49s\tremaining: 608ms\n",
      "71:\tlearn: 0.6574116\ttotal: 1.51s\tremaining: 587ms\n",
      "72:\tlearn: 0.6573952\ttotal: 1.53s\tremaining: 566ms\n",
      "73:\tlearn: 0.6573616\ttotal: 1.55s\tremaining: 545ms\n",
      "74:\tlearn: 0.6573250\ttotal: 1.57s\tremaining: 524ms\n",
      "75:\tlearn: 0.6573092\ttotal: 1.59s\tremaining: 503ms\n",
      "76:\tlearn: 0.6573006\ttotal: 1.61s\tremaining: 481ms\n",
      "77:\tlearn: 0.6572773\ttotal: 1.64s\tremaining: 461ms\n",
      "78:\tlearn: 0.6572371\ttotal: 1.66s\tremaining: 442ms\n",
      "79:\tlearn: 0.6572255\ttotal: 1.68s\tremaining: 420ms\n",
      "80:\tlearn: 0.6571855\ttotal: 1.7s\tremaining: 399ms\n",
      "81:\tlearn: 0.6571761\ttotal: 1.72s\tremaining: 377ms\n",
      "82:\tlearn: 0.6571584\ttotal: 1.74s\tremaining: 357ms\n",
      "83:\tlearn: 0.6571150\ttotal: 1.76s\tremaining: 336ms\n",
      "84:\tlearn: 0.6571001\ttotal: 1.78s\tremaining: 315ms\n",
      "85:\tlearn: 0.6570976\ttotal: 1.8s\tremaining: 293ms\n",
      "86:\tlearn: 0.6570741\ttotal: 1.82s\tremaining: 272ms\n",
      "87:\tlearn: 0.6570519\ttotal: 1.85s\tremaining: 252ms\n",
      "88:\tlearn: 0.6570277\ttotal: 1.87s\tremaining: 231ms\n",
      "89:\tlearn: 0.6570143\ttotal: 1.89s\tremaining: 210ms\n",
      "90:\tlearn: 0.6569674\ttotal: 1.91s\tremaining: 189ms\n",
      "91:\tlearn: 0.6569517\ttotal: 1.94s\tremaining: 169ms\n",
      "92:\tlearn: 0.6569340\ttotal: 1.97s\tremaining: 148ms\n",
      "93:\tlearn: 0.6569185\ttotal: 1.99s\tremaining: 127ms\n",
      "94:\tlearn: 0.6569055\ttotal: 2.01s\tremaining: 106ms\n",
      "95:\tlearn: 0.6568882\ttotal: 2.03s\tremaining: 84.6ms\n",
      "96:\tlearn: 0.6568705\ttotal: 2.06s\tremaining: 63.6ms\n",
      "97:\tlearn: 0.6568558\ttotal: 2.08s\tremaining: 42.4ms\n",
      "98:\tlearn: 0.6568452\ttotal: 2.1s\tremaining: 21.2ms\n",
      "99:\tlearn: 0.6568354\ttotal: 2.12s\tremaining: 0us\n",
      "Learning rate set to 0.5\n",
      "0:\tlearn: 12.6867124\ttotal: 4.85ms\tremaining: 480ms\n",
      "1:\tlearn: 12.5549490\ttotal: 8.43ms\tremaining: 413ms\n",
      "2:\tlearn: 12.5161223\ttotal: 11.8ms\tremaining: 381ms\n",
      "3:\tlearn: 12.4858944\ttotal: 16.3ms\tremaining: 390ms\n",
      "4:\tlearn: 12.4723267\ttotal: 20.7ms\tremaining: 393ms\n",
      "5:\tlearn: 12.4549552\ttotal: 24.2ms\tremaining: 379ms\n",
      "6:\tlearn: 12.4446166\ttotal: 27.3ms\tremaining: 363ms\n",
      "7:\tlearn: 12.4408473\ttotal: 31ms\tremaining: 356ms\n",
      "8:\tlearn: 12.4318386\ttotal: 34.6ms\tremaining: 350ms\n",
      "9:\tlearn: 12.4187504\ttotal: 37.8ms\tremaining: 340ms\n",
      "10:\tlearn: 12.4160873\ttotal: 40.9ms\tremaining: 331ms\n",
      "11:\tlearn: 12.4153891\ttotal: 43.7ms\tremaining: 321ms\n",
      "12:\tlearn: 12.4121616\ttotal: 47.8ms\tremaining: 320ms\n",
      "13:\tlearn: 12.4120224\ttotal: 50.5ms\tremaining: 310ms\n",
      "14:\tlearn: 12.4097913\ttotal: 53.8ms\tremaining: 305ms\n",
      "15:\tlearn: 12.4067616\ttotal: 56.9ms\tremaining: 299ms\n",
      "16:\tlearn: 12.4050820\ttotal: 60.1ms\tremaining: 293ms\n",
      "17:\tlearn: 12.4009044\ttotal: 64.5ms\tremaining: 294ms\n",
      "18:\tlearn: 12.3945661\ttotal: 67.9ms\tremaining: 290ms\n",
      "19:\tlearn: 12.3943382\ttotal: 70.6ms\tremaining: 282ms\n",
      "20:\tlearn: 12.3920250\ttotal: 74ms\tremaining: 278ms\n",
      "21:\tlearn: 12.3913965\ttotal: 77.4ms\tremaining: 274ms\n",
      "22:\tlearn: 12.3885769\ttotal: 81.3ms\tremaining: 272ms\n",
      "23:\tlearn: 12.3826862\ttotal: 85.1ms\tremaining: 270ms\n",
      "24:\tlearn: 12.3798756\ttotal: 88.5ms\tremaining: 265ms\n",
      "25:\tlearn: 12.3792783\ttotal: 91.4ms\tremaining: 260ms\n",
      "26:\tlearn: 12.3756602\ttotal: 95.4ms\tremaining: 258ms\n",
      "27:\tlearn: 12.3723494\ttotal: 99.1ms\tremaining: 255ms\n",
      "28:\tlearn: 12.3717639\ttotal: 102ms\tremaining: 250ms\n",
      "29:\tlearn: 12.3678402\ttotal: 106ms\tremaining: 246ms\n",
      "30:\tlearn: 12.3641523\ttotal: 109ms\tremaining: 242ms\n",
      "31:\tlearn: 12.3615308\ttotal: 112ms\tremaining: 238ms\n",
      "32:\tlearn: 12.3576369\ttotal: 116ms\tremaining: 235ms\n",
      "33:\tlearn: 12.3539867\ttotal: 119ms\tremaining: 231ms\n",
      "34:\tlearn: 12.3521379\ttotal: 122ms\tremaining: 226ms\n",
      "35:\tlearn: 12.3509142\ttotal: 125ms\tremaining: 223ms\n",
      "36:\tlearn: 12.3497727\ttotal: 128ms\tremaining: 219ms\n",
      "37:\tlearn: 12.3492320\ttotal: 132ms\tremaining: 216ms\n",
      "38:\tlearn: 12.3478555\ttotal: 135ms\tremaining: 212ms\n",
      "39:\tlearn: 12.3474765\ttotal: 139ms\tremaining: 208ms\n",
      "40:\tlearn: 12.3458093\ttotal: 142ms\tremaining: 204ms\n",
      "41:\tlearn: 12.3448590\ttotal: 145ms\tremaining: 200ms\n",
      "42:\tlearn: 12.3444888\ttotal: 148ms\tremaining: 196ms\n",
      "43:\tlearn: 12.3426970\ttotal: 151ms\tremaining: 193ms\n",
      "44:\tlearn: 12.3419233\ttotal: 155ms\tremaining: 189ms\n",
      "45:\tlearn: 12.3408815\ttotal: 158ms\tremaining: 186ms\n",
      "46:\tlearn: 12.3397545\ttotal: 162ms\tremaining: 182ms\n",
      "47:\tlearn: 12.3383310\ttotal: 165ms\tremaining: 179ms\n",
      "48:\tlearn: 12.3378411\ttotal: 169ms\tremaining: 175ms\n",
      "49:\tlearn: 12.3372995\ttotal: 173ms\tremaining: 173ms\n",
      "50:\tlearn: 12.3363313\ttotal: 177ms\tremaining: 170ms\n",
      "51:\tlearn: 12.3360358\ttotal: 181ms\tremaining: 167ms\n",
      "52:\tlearn: 12.3350139\ttotal: 184ms\tremaining: 164ms\n"
     ]
    },
    {
     "name": "stdout",
     "output_type": "stream",
     "text": [
      "53:\tlearn: 12.3341352\ttotal: 188ms\tremaining: 160ms\n",
      "54:\tlearn: 12.3334339\ttotal: 193ms\tremaining: 158ms\n",
      "55:\tlearn: 12.3330214\ttotal: 196ms\tremaining: 154ms\n",
      "56:\tlearn: 12.3323915\ttotal: 200ms\tremaining: 151ms\n",
      "57:\tlearn: 12.3310892\ttotal: 203ms\tremaining: 147ms\n",
      "58:\tlearn: 12.3306477\ttotal: 211ms\tremaining: 146ms\n",
      "59:\tlearn: 12.3303931\ttotal: 214ms\tremaining: 143ms\n",
      "60:\tlearn: 12.3298816\ttotal: 218ms\tremaining: 140ms\n",
      "61:\tlearn: 12.3290631\ttotal: 224ms\tremaining: 137ms\n",
      "62:\tlearn: 12.3279755\ttotal: 228ms\tremaining: 134ms\n",
      "63:\tlearn: 12.3276776\ttotal: 231ms\tremaining: 130ms\n",
      "64:\tlearn: 12.3272578\ttotal: 235ms\tremaining: 126ms\n",
      "65:\tlearn: 12.3265621\ttotal: 239ms\tremaining: 123ms\n",
      "66:\tlearn: 12.3263453\ttotal: 243ms\tremaining: 120ms\n",
      "67:\tlearn: 12.3259944\ttotal: 247ms\tremaining: 116ms\n",
      "68:\tlearn: 12.3252701\ttotal: 251ms\tremaining: 113ms\n",
      "69:\tlearn: 12.3249962\ttotal: 255ms\tremaining: 109ms\n",
      "70:\tlearn: 12.3247554\ttotal: 258ms\tremaining: 106ms\n",
      "71:\tlearn: 12.3240885\ttotal: 262ms\tremaining: 102ms\n",
      "72:\tlearn: 12.3238675\ttotal: 265ms\tremaining: 98ms\n",
      "73:\tlearn: 12.3233926\ttotal: 269ms\tremaining: 94.5ms\n",
      "74:\tlearn: 12.3233164\ttotal: 273ms\tremaining: 90.9ms\n",
      "75:\tlearn: 12.3230951\ttotal: 277ms\tremaining: 87.3ms\n",
      "76:\tlearn: 12.3228133\ttotal: 281ms\tremaining: 83.9ms\n",
      "77:\tlearn: 12.3225217\ttotal: 284ms\tremaining: 80.2ms\n",
      "78:\tlearn: 12.3217435\ttotal: 289ms\tremaining: 76.7ms\n",
      "79:\tlearn: 12.3215312\ttotal: 292ms\tremaining: 72.9ms\n",
      "80:\tlearn: 12.3212857\ttotal: 295ms\tremaining: 69.2ms\n",
      "81:\tlearn: 12.3205840\ttotal: 298ms\tremaining: 65.5ms\n",
      "82:\tlearn: 12.3202125\ttotal: 302ms\tremaining: 61.8ms\n",
      "83:\tlearn: 12.3198338\ttotal: 305ms\tremaining: 58.1ms\n",
      "84:\tlearn: 12.3197156\ttotal: 308ms\tremaining: 54.4ms\n",
      "85:\tlearn: 12.3193631\ttotal: 312ms\tremaining: 50.7ms\n",
      "86:\tlearn: 12.3192655\ttotal: 314ms\tremaining: 47ms\n",
      "87:\tlearn: 12.3188657\ttotal: 318ms\tremaining: 43.4ms\n",
      "88:\tlearn: 12.3187306\ttotal: 321ms\tremaining: 39.7ms\n",
      "89:\tlearn: 12.3182283\ttotal: 324ms\tremaining: 36ms\n",
      "90:\tlearn: 12.3178186\ttotal: 328ms\tremaining: 32.4ms\n",
      "91:\tlearn: 12.3175822\ttotal: 331ms\tremaining: 28.8ms\n",
      "92:\tlearn: 12.3173936\ttotal: 335ms\tremaining: 25.2ms\n",
      "93:\tlearn: 12.3172587\ttotal: 339ms\tremaining: 21.6ms\n",
      "94:\tlearn: 12.3170378\ttotal: 342ms\tremaining: 18ms\n",
      "95:\tlearn: 12.3166592\ttotal: 345ms\tremaining: 14.4ms\n",
      "96:\tlearn: 12.3164375\ttotal: 349ms\tremaining: 10.8ms\n",
      "97:\tlearn: 12.3163850\ttotal: 352ms\tremaining: 7.18ms\n",
      "98:\tlearn: 12.3162125\ttotal: 356ms\tremaining: 3.59ms\n",
      "99:\tlearn: 12.3159804\ttotal: 359ms\tremaining: 0us\n"
     ]
    }
   ],
   "source": [
    "mse_sum = 0\n",
    "for label in df_merged_train['label'].unique():\n",
    "    \n",
    "    X_train, y_train = df_merged_train[df_merged_train['label'] == label][['product_rk', 'city']].values, df_merged_train[df_merged_train['label'] == label]['demand']\n",
    "    X_test, y_test = df_merged_test[df_merged_test['label'] == label][['product_rk', 'city']].values, df_merged_test[df_merged_test['label'] == label]['demand']\n",
    "    \n",
    "    cat = CatBoostRegressor(iterations=100)\n",
    "    cat.fit(X_train, y_train)\n",
    "    \n",
    "    preds = cat.predict(X_test)\n",
    "    \n",
    "    mse_sum += mean_squared_error(preds, y_test) * X_train.shape[0]"
   ]
  },
  {
   "cell_type": "code",
   "execution_count": 29,
   "id": "4d282f27",
   "metadata": {},
   "outputs": [
    {
     "name": "stdout",
     "output_type": "stream",
     "text": [
      "Error with clustering: 3.9028595285496404\n"
     ]
    }
   ],
   "source": [
    "mse = mse_sum / df_merged.shape[0]\n",
    "print('Error with clustering:', mse)"
   ]
  },
  {
   "cell_type": "code",
   "execution_count": null,
   "id": "56936f38",
   "metadata": {},
   "outputs": [],
   "source": []
  },
  {
   "cell_type": "code",
   "execution_count": null,
   "id": "ec337f2e",
   "metadata": {},
   "outputs": [],
   "source": []
  },
  {
   "cell_type": "code",
   "execution_count": 233,
   "id": "a7acb29c",
   "metadata": {},
   "outputs": [],
   "source": [
    "# store = 926\n",
    "# product = 45312\n",
    "\n",
    "\n",
    "# df[(df['product_rk'] == product) & (df['store_location_rk'] == store)].sort_values('period_start_dt').\\\n",
    "# set_index('period_start_dt')[['demand']].plot(figsize=(10, 8), color='blue', label=f'Demand_Store{store}_product{product}')\n",
    "# plt.xlabel('Date', weight='bold', size=12)\n",
    "# plt.ylabel('Demand', weight='bold', size=12)\n",
    "# plt.legend()\n"
   ]
  },
  {
   "cell_type": "code",
   "execution_count": null,
   "id": "bb3d3b1b",
   "metadata": {},
   "outputs": [],
   "source": []
  }
 ],
 "metadata": {
  "kernelspec": {
   "display_name": "Python 3 (ipykernel)",
   "language": "python",
   "name": "python3"
  },
  "language_info": {
   "codemirror_mode": {
    "name": "ipython",
    "version": 3
   },
   "file_extension": ".py",
   "mimetype": "text/x-python",
   "name": "python",
   "nbconvert_exporter": "python",
   "pygments_lexer": "ipython3",
   "version": "3.10.9"
  },
  "toc": {
   "base_numbering": 1,
   "nav_menu": {},
   "number_sections": true,
   "sideBar": true,
   "skip_h1_title": false,
   "title_cell": "Table of Contents",
   "title_sidebar": "Contents",
   "toc_cell": false,
   "toc_position": {},
   "toc_section_display": true,
   "toc_window_display": false
  }
 },
 "nbformat": 4,
 "nbformat_minor": 5
}
