{
 "cells": [
  {
   "cell_type": "code",
   "execution_count": 1,
   "id": "42086b34",
   "metadata": {
    "ExecuteTime": {
     "end_time": "2023-05-14T16:40:21.761961Z",
     "start_time": "2023-05-14T16:40:17.873898Z"
    }
   },
   "outputs": [],
   "source": [
    "import pandas as pd\n",
    "import numpy as np\n",
    "import matplotlib.pyplot as plt\n",
    "import os\n",
    "from tqdm.notebook import tqdm\n",
    "\n",
    "from sklearn.metrics import silhouette_score\n",
    "from sklearn.metrics import davies_bouldin_score, mean_squared_error\n",
    "  \n",
    "plt.style.use('ggplot')"
   ]
  },
  {
   "cell_type": "code",
   "execution_count": 5,
   "id": "c2f8eef0",
   "metadata": {
    "ExecuteTime": {
     "end_time": "2023-05-14T16:44:54.671712Z",
     "start_time": "2023-05-14T16:40:50.815705Z"
    }
   },
   "outputs": [
    {
     "data": {
      "application/vnd.jupyter.widget-view+json": {
       "model_id": "7642cbbd6c30406488991759d2a3fe92",
       "version_major": 2,
       "version_minor": 0
      },
      "text/plain": [
       "  0%|          | 0/10 [00:00<?, ?it/s]"
      ]
     },
     "metadata": {},
     "output_type": "display_data"
    }
   ],
   "source": [
    "N_READ_FILES = 10\n",
    "\n",
    "df = pd.DataFrame()\n",
    "for filename in tqdm(os.listdir('../data/DataLagsMayPkl/')[:N_READ_FILES]):\n",
    "    if '.pkl' in filename:\n",
    "        data = pd.read_pickle(f'../data/DataLagsMayPkl/{filename}')\n",
    "        df = pd.concat([df, data])\n",
    "        \n",
    "df = df.reset_index(drop=True)"
   ]
  },
  {
   "cell_type": "code",
   "execution_count": 10,
   "id": "c82aa585",
   "metadata": {
    "ExecuteTime": {
     "end_time": "2023-05-14T16:47:38.742906Z",
     "start_time": "2023-05-14T16:45:26.828536Z"
    }
   },
   "outputs": [
    {
     "data": {
      "text/plain": [
       "((3418374, 144), (3418374, 144))"
      ]
     },
     "execution_count": 10,
     "metadata": {},
     "output_type": "execute_result"
    }
   ],
   "source": [
    "location_dict = pd.read_csv('../data/LOCATION.csv', sep=';').rename(\n",
    "    columns={\n",
    "        'STORE_LOCATION_RK': 'store_location_rk',\n",
    "        'STORE_LOCATION_LVL_RK3': 'city',\n",
    "        'STORE_LOCATION_LVL_RK2': 'region'\n",
    "    }\n",
    ")[['store_location_rk', 'city', 'region']]\n",
    "\n",
    "product_dict = pd.read_csv('../data/PRODUCT.csv', sep=';').rename(\n",
    "    columns={\n",
    "        'PRODUCT_RK': 'product_rk',\n",
    "        'PRODUCT_LVL_RK3': 'product_lvl_rk3',\n",
    "        'PRODUCT_LVL_RK2': 'product_lvl_rk2'\n",
    "    }\n",
    ")[['product_rk', 'product_lvl_rk3', 'product_lvl_rk2']]\n",
    "\n",
    "\n",
    "df = df.merge(location_dict, how='left', on='store_location_rk').\\\n",
    "    merge(product_dict, how='left', on='product_rk')\n",
    "\n",
    "assert df['city'].isna().sum() == 0\n",
    "assert df['region'].isna().sum() == 0\n",
    "\n",
    "df.shape, df.shape"
   ]
  },
  {
   "cell_type": "code",
   "execution_count": 15,
   "id": "c0385368",
   "metadata": {
    "ExecuteTime": {
     "end_time": "2023-05-14T16:49:41.335134Z",
     "start_time": "2023-05-14T16:49:41.207838Z"
    }
   },
   "outputs": [
    {
     "data": {
      "text/html": [
       "<div>\n",
       "<style scoped>\n",
       "    .dataframe tbody tr th:only-of-type {\n",
       "        vertical-align: middle;\n",
       "    }\n",
       "\n",
       "    .dataframe tbody tr th {\n",
       "        vertical-align: top;\n",
       "    }\n",
       "\n",
       "    .dataframe thead th {\n",
       "        text-align: right;\n",
       "    }\n",
       "</style>\n",
       "<table border=\"1\" class=\"dataframe\">\n",
       "  <thead>\n",
       "    <tr style=\"text-align: right;\">\n",
       "      <th></th>\n",
       "      <th>product_rk</th>\n",
       "      <th>store_location_rk</th>\n",
       "      <th>period_start_dt</th>\n",
       "      <th>demand</th>\n",
       "      <th>PROMO1_FLAG</th>\n",
       "      <th>PROMO2_FLAG</th>\n",
       "      <th>PRICE_REGULAR</th>\n",
       "      <th>PRICE_AFTER_DISC</th>\n",
       "      <th>NUM_CONSULTANT</th>\n",
       "      <th>AUTORIZATION_FLAG</th>\n",
       "      <th>...</th>\n",
       "      <th>demand_lag52_w56D_keyproduct_rk_store_location_rk_preagmean_agmean_NO_FILTER_dynamic_rolling</th>\n",
       "      <th>demand_lag52_w56D_keyproduct_rk_store_location_rk_preagmean_agmedian_NO_FILTER_dynamic_rolling</th>\n",
       "      <th>demand_lag52_w182D_keyproduct_rk_store_location_rk_preagmean_agmean_NO_FILTER_dynamic_rolling</th>\n",
       "      <th>demand_lag52_w182D_keyproduct_rk_store_location_rk_preagmean_agmedian_NO_FILTER_dynamic_rolling</th>\n",
       "      <th>demand_lag52_w364D_keyproduct_rk_store_location_rk_preagmean_agmean_NO_FILTER_dynamic_rolling</th>\n",
       "      <th>demand_lag52_w364D_keyproduct_rk_store_location_rk_preagmean_agmedian_NO_FILTER_dynamic_rolling</th>\n",
       "      <th>city</th>\n",
       "      <th>region</th>\n",
       "      <th>product_lvl_rk3</th>\n",
       "      <th>product_lvl_rk2</th>\n",
       "    </tr>\n",
       "  </thead>\n",
       "  <tbody>\n",
       "    <tr>\n",
       "      <th>0</th>\n",
       "      <td>44467</td>\n",
       "      <td>1143</td>\n",
       "      <td>2016-12-26</td>\n",
       "      <td>1.344828</td>\n",
       "      <td>1.0</td>\n",
       "      <td>0.0</td>\n",
       "      <td>312.000000</td>\n",
       "      <td>271.285714</td>\n",
       "      <td>0.0</td>\n",
       "      <td>1.0</td>\n",
       "      <td>...</td>\n",
       "      <td>NaN</td>\n",
       "      <td>NaN</td>\n",
       "      <td>NaN</td>\n",
       "      <td>NaN</td>\n",
       "      <td>NaN</td>\n",
       "      <td>NaN</td>\n",
       "      <td>39</td>\n",
       "      <td>10</td>\n",
       "      <td>73613</td>\n",
       "      <td>73491</td>\n",
       "    </tr>\n",
       "    <tr>\n",
       "      <th>1</th>\n",
       "      <td>45315</td>\n",
       "      <td>1143</td>\n",
       "      <td>2016-12-26</td>\n",
       "      <td>9.000000</td>\n",
       "      <td>1.0</td>\n",
       "      <td>0.0</td>\n",
       "      <td>629.000000</td>\n",
       "      <td>629.000000</td>\n",
       "      <td>0.0</td>\n",
       "      <td>1.0</td>\n",
       "      <td>...</td>\n",
       "      <td>NaN</td>\n",
       "      <td>NaN</td>\n",
       "      <td>NaN</td>\n",
       "      <td>NaN</td>\n",
       "      <td>NaN</td>\n",
       "      <td>NaN</td>\n",
       "      <td>39</td>\n",
       "      <td>10</td>\n",
       "      <td>10045</td>\n",
       "      <td>9848</td>\n",
       "    </tr>\n",
       "    <tr>\n",
       "      <th>2</th>\n",
       "      <td>36220</td>\n",
       "      <td>1143</td>\n",
       "      <td>2016-12-26</td>\n",
       "      <td>1.000000</td>\n",
       "      <td>1.0</td>\n",
       "      <td>0.0</td>\n",
       "      <td>171.000000</td>\n",
       "      <td>171.000000</td>\n",
       "      <td>0.0</td>\n",
       "      <td>1.0</td>\n",
       "      <td>...</td>\n",
       "      <td>NaN</td>\n",
       "      <td>NaN</td>\n",
       "      <td>NaN</td>\n",
       "      <td>NaN</td>\n",
       "      <td>NaN</td>\n",
       "      <td>NaN</td>\n",
       "      <td>39</td>\n",
       "      <td>10</td>\n",
       "      <td>10125</td>\n",
       "      <td>9711</td>\n",
       "    </tr>\n",
       "    <tr>\n",
       "      <th>3</th>\n",
       "      <td>78148</td>\n",
       "      <td>1143</td>\n",
       "      <td>2016-12-26</td>\n",
       "      <td>1.000000</td>\n",
       "      <td>1.0</td>\n",
       "      <td>0.0</td>\n",
       "      <td>4041.857143</td>\n",
       "      <td>2020.928571</td>\n",
       "      <td>0.0</td>\n",
       "      <td>1.0</td>\n",
       "      <td>...</td>\n",
       "      <td>NaN</td>\n",
       "      <td>NaN</td>\n",
       "      <td>NaN</td>\n",
       "      <td>NaN</td>\n",
       "      <td>NaN</td>\n",
       "      <td>NaN</td>\n",
       "      <td>39</td>\n",
       "      <td>10</td>\n",
       "      <td>113535</td>\n",
       "      <td>113534</td>\n",
       "    </tr>\n",
       "    <tr>\n",
       "      <th>4</th>\n",
       "      <td>45922</td>\n",
       "      <td>1143</td>\n",
       "      <td>2016-12-26</td>\n",
       "      <td>1.000000</td>\n",
       "      <td>1.0</td>\n",
       "      <td>0.0</td>\n",
       "      <td>243.000000</td>\n",
       "      <td>243.000000</td>\n",
       "      <td>0.0</td>\n",
       "      <td>1.0</td>\n",
       "      <td>...</td>\n",
       "      <td>NaN</td>\n",
       "      <td>NaN</td>\n",
       "      <td>NaN</td>\n",
       "      <td>NaN</td>\n",
       "      <td>NaN</td>\n",
       "      <td>NaN</td>\n",
       "      <td>39</td>\n",
       "      <td>10</td>\n",
       "      <td>10045</td>\n",
       "      <td>9848</td>\n",
       "    </tr>\n",
       "  </tbody>\n",
       "</table>\n",
       "<p>5 rows × 144 columns</p>\n",
       "</div>"
      ],
      "text/plain": [
       "   product_rk  store_location_rk period_start_dt    demand  PROMO1_FLAG  \\\n",
       "0       44467               1143      2016-12-26  1.344828          1.0   \n",
       "1       45315               1143      2016-12-26  9.000000          1.0   \n",
       "2       36220               1143      2016-12-26  1.000000          1.0   \n",
       "3       78148               1143      2016-12-26  1.000000          1.0   \n",
       "4       45922               1143      2016-12-26  1.000000          1.0   \n",
       "\n",
       "   PROMO2_FLAG  PRICE_REGULAR  PRICE_AFTER_DISC  NUM_CONSULTANT  \\\n",
       "0          0.0     312.000000        271.285714             0.0   \n",
       "1          0.0     629.000000        629.000000             0.0   \n",
       "2          0.0     171.000000        171.000000             0.0   \n",
       "3          0.0    4041.857143       2020.928571             0.0   \n",
       "4          0.0     243.000000        243.000000             0.0   \n",
       "\n",
       "   AUTORIZATION_FLAG  ...  \\\n",
       "0                1.0  ...   \n",
       "1                1.0  ...   \n",
       "2                1.0  ...   \n",
       "3                1.0  ...   \n",
       "4                1.0  ...   \n",
       "\n",
       "   demand_lag52_w56D_keyproduct_rk_store_location_rk_preagmean_agmean_NO_FILTER_dynamic_rolling  \\\n",
       "0                                                NaN                                              \n",
       "1                                                NaN                                              \n",
       "2                                                NaN                                              \n",
       "3                                                NaN                                              \n",
       "4                                                NaN                                              \n",
       "\n",
       "   demand_lag52_w56D_keyproduct_rk_store_location_rk_preagmean_agmedian_NO_FILTER_dynamic_rolling  \\\n",
       "0                                                NaN                                                \n",
       "1                                                NaN                                                \n",
       "2                                                NaN                                                \n",
       "3                                                NaN                                                \n",
       "4                                                NaN                                                \n",
       "\n",
       "   demand_lag52_w182D_keyproduct_rk_store_location_rk_preagmean_agmean_NO_FILTER_dynamic_rolling  \\\n",
       "0                                                NaN                                               \n",
       "1                                                NaN                                               \n",
       "2                                                NaN                                               \n",
       "3                                                NaN                                               \n",
       "4                                                NaN                                               \n",
       "\n",
       "   demand_lag52_w182D_keyproduct_rk_store_location_rk_preagmean_agmedian_NO_FILTER_dynamic_rolling  \\\n",
       "0                                                NaN                                                 \n",
       "1                                                NaN                                                 \n",
       "2                                                NaN                                                 \n",
       "3                                                NaN                                                 \n",
       "4                                                NaN                                                 \n",
       "\n",
       "   demand_lag52_w364D_keyproduct_rk_store_location_rk_preagmean_agmean_NO_FILTER_dynamic_rolling  \\\n",
       "0                                                NaN                                               \n",
       "1                                                NaN                                               \n",
       "2                                                NaN                                               \n",
       "3                                                NaN                                               \n",
       "4                                                NaN                                               \n",
       "\n",
       "   demand_lag52_w364D_keyproduct_rk_store_location_rk_preagmean_agmedian_NO_FILTER_dynamic_rolling  \\\n",
       "0                                                NaN                                                 \n",
       "1                                                NaN                                                 \n",
       "2                                                NaN                                                 \n",
       "3                                                NaN                                                 \n",
       "4                                                NaN                                                 \n",
       "\n",
       "   city  region  product_lvl_rk3  product_lvl_rk2  \n",
       "0    39      10            73613            73491  \n",
       "1    39      10            10045             9848  \n",
       "2    39      10            10125             9711  \n",
       "3    39      10           113535           113534  \n",
       "4    39      10            10045             9848  \n",
       "\n",
       "[5 rows x 144 columns]"
      ]
     },
     "execution_count": 15,
     "metadata": {},
     "output_type": "execute_result"
    }
   ],
   "source": [
    "df.head()"
   ]
  },
  {
   "cell_type": "code",
   "execution_count": 20,
   "id": "7bd54995",
   "metadata": {
    "ExecuteTime": {
     "end_time": "2023-05-14T16:52:54.964154Z",
     "start_time": "2023-05-14T16:51:41.974330Z"
    }
   },
   "outputs": [
    {
     "data": {
      "text/plain": [
       "product_rk           0\n",
       "store_location_rk    0\n",
       "period_start_dt      0\n",
       "demand               0\n",
       "PROMO1_FLAG          0\n",
       "PROMO2_FLAG          0\n",
       "PRICE_REGULAR        0\n",
       "PRICE_AFTER_DISC     0\n",
       "NUM_CONSULTANT       0\n",
       "AUTORIZATION_FLAG    0\n",
       "PROMO12_FLAG         0\n",
       "NO_FILTER            0\n",
       "city                 0\n",
       "region               0\n",
       "product_lvl_rk3      0\n",
       "product_lvl_rk2      0\n",
       "dtype: int64"
      ]
     },
     "execution_count": 20,
     "metadata": {},
     "output_type": "execute_result"
    }
   ],
   "source": [
    "cols = df.columns[~df.columns.str.contains('demand_')]\n",
    "df[cols].isna().sum()"
   ]
  },
  {
   "cell_type": "code",
   "execution_count": 21,
   "id": "f26417c4",
   "metadata": {
    "ExecuteTime": {
     "end_time": "2023-05-14T16:52:55.090205Z",
     "start_time": "2023-05-14T16:52:55.000552Z"
    }
   },
   "outputs": [],
   "source": [
    "## нет миссингов"
   ]
  },
  {
   "cell_type": "code",
   "execution_count": 22,
   "id": "833a2acc",
   "metadata": {
    "ExecuteTime": {
     "end_time": "2023-05-14T16:52:55.514873Z",
     "start_time": "2023-05-14T16:52:55.096876Z"
    }
   },
   "outputs": [
    {
     "data": {
      "text/plain": [
       "product_rk             int64\n",
       "store_location_rk      int64\n",
       "period_start_dt       object\n",
       "demand               float64\n",
       "PROMO1_FLAG          float64\n",
       "PROMO2_FLAG          float64\n",
       "PRICE_REGULAR        float64\n",
       "PRICE_AFTER_DISC     float64\n",
       "NUM_CONSULTANT       float64\n",
       "AUTORIZATION_FLAG    float64\n",
       "PROMO12_FLAG           int64\n",
       "NO_FILTER              int64\n",
       "city                   int64\n",
       "region                 int64\n",
       "product_lvl_rk3        int64\n",
       "product_lvl_rk2        int64\n",
       "dtype: object"
      ]
     },
     "execution_count": 22,
     "metadata": {},
     "output_type": "execute_result"
    }
   ],
   "source": [
    "df[cols].dtypes"
   ]
  },
  {
   "cell_type": "code",
   "execution_count": 23,
   "id": "a09e9e52",
   "metadata": {
    "ExecuteTime": {
     "end_time": "2023-05-14T16:55:41.643373Z",
     "start_time": "2023-05-14T16:55:38.296010Z"
    }
   },
   "outputs": [
    {
     "data": {
      "text/html": [
       "<div>\n",
       "<style scoped>\n",
       "    .dataframe tbody tr th:only-of-type {\n",
       "        vertical-align: middle;\n",
       "    }\n",
       "\n",
       "    .dataframe tbody tr th {\n",
       "        vertical-align: top;\n",
       "    }\n",
       "\n",
       "    .dataframe thead th {\n",
       "        text-align: right;\n",
       "    }\n",
       "</style>\n",
       "<table border=\"1\" class=\"dataframe\">\n",
       "  <thead>\n",
       "    <tr style=\"text-align: right;\">\n",
       "      <th></th>\n",
       "      <th>product_rk</th>\n",
       "      <th>store_location_rk</th>\n",
       "      <th>demand</th>\n",
       "      <th>PROMO1_FLAG</th>\n",
       "      <th>PROMO2_FLAG</th>\n",
       "      <th>PRICE_REGULAR</th>\n",
       "      <th>PRICE_AFTER_DISC</th>\n",
       "      <th>NUM_CONSULTANT</th>\n",
       "      <th>AUTORIZATION_FLAG</th>\n",
       "      <th>PROMO12_FLAG</th>\n",
       "      <th>NO_FILTER</th>\n",
       "      <th>city</th>\n",
       "      <th>region</th>\n",
       "      <th>product_lvl_rk3</th>\n",
       "      <th>product_lvl_rk2</th>\n",
       "    </tr>\n",
       "  </thead>\n",
       "  <tbody>\n",
       "    <tr>\n",
       "      <th>count</th>\n",
       "      <td>3,418,374.00</td>\n",
       "      <td>3,418,374.00</td>\n",
       "      <td>3,418,374.00</td>\n",
       "      <td>3,418,374.00</td>\n",
       "      <td>3,418,374.00</td>\n",
       "      <td>3,418,374.00</td>\n",
       "      <td>3,418,374.00</td>\n",
       "      <td>3,418,374.00</td>\n",
       "      <td>3,418,374.00</td>\n",
       "      <td>3,418,374.00</td>\n",
       "      <td>3,418,374.00</td>\n",
       "      <td>3,418,374.00</td>\n",
       "      <td>3,418,374.00</td>\n",
       "      <td>3,418,374.00</td>\n",
       "      <td>3,418,374.00</td>\n",
       "    </tr>\n",
       "    <tr>\n",
       "      <th>mean</th>\n",
       "      <td>68,079.04</td>\n",
       "      <td>938.66</td>\n",
       "      <td>1.06</td>\n",
       "      <td>0.42</td>\n",
       "      <td>0.00</td>\n",
       "      <td>1,666.07</td>\n",
       "      <td>1,162.96</td>\n",
       "      <td>0.10</td>\n",
       "      <td>0.81</td>\n",
       "      <td>0.84</td>\n",
       "      <td>1.00</td>\n",
       "      <td>166.92</td>\n",
       "      <td>10.00</td>\n",
       "      <td>27,529.48</td>\n",
       "      <td>40,676.31</td>\n",
       "    </tr>\n",
       "    <tr>\n",
       "      <th>std</th>\n",
       "      <td>29,935.09</td>\n",
       "      <td>264.33</td>\n",
       "      <td>2.80</td>\n",
       "      <td>0.49</td>\n",
       "      <td>0.06</td>\n",
       "      <td>2,149.61</td>\n",
       "      <td>1,474.79</td>\n",
       "      <td>0.66</td>\n",
       "      <td>0.39</td>\n",
       "      <td>0.99</td>\n",
       "      <td>0.00</td>\n",
       "      <td>70.70</td>\n",
       "      <td>0.00</td>\n",
       "      <td>37,893.39</td>\n",
       "      <td>43,318.71</td>\n",
       "    </tr>\n",
       "    <tr>\n",
       "      <th>min</th>\n",
       "      <td>11,389.00</td>\n",
       "      <td>453.00</td>\n",
       "      <td>0.00</td>\n",
       "      <td>0.00</td>\n",
       "      <td>0.00</td>\n",
       "      <td>0.59</td>\n",
       "      <td>0.30</td>\n",
       "      <td>0.00</td>\n",
       "      <td>0.00</td>\n",
       "      <td>0.00</td>\n",
       "      <td>1.00</td>\n",
       "      <td>32.00</td>\n",
       "      <td>10.00</td>\n",
       "      <td>1,938.00</td>\n",
       "      <td>3,427.00</td>\n",
       "    </tr>\n",
       "    <tr>\n",
       "      <th>25%</th>\n",
       "      <td>43,899.00</td>\n",
       "      <td>764.00</td>\n",
       "      <td>0.12</td>\n",
       "      <td>0.00</td>\n",
       "      <td>0.00</td>\n",
       "      <td>269.04</td>\n",
       "      <td>232.00</td>\n",
       "      <td>0.00</td>\n",
       "      <td>1.00</td>\n",
       "      <td>0.00</td>\n",
       "      <td>1.00</td>\n",
       "      <td>54.00</td>\n",
       "      <td>10.00</td>\n",
       "      <td>7,182.00</td>\n",
       "      <td>9,711.00</td>\n",
       "    </tr>\n",
       "    <tr>\n",
       "      <th>50%</th>\n",
       "      <td>75,563.00</td>\n",
       "      <td>1,005.00</td>\n",
       "      <td>0.75</td>\n",
       "      <td>0.00</td>\n",
       "      <td>0.00</td>\n",
       "      <td>600.00</td>\n",
       "      <td>504.00</td>\n",
       "      <td>0.00</td>\n",
       "      <td>1.00</td>\n",
       "      <td>0.00</td>\n",
       "      <td>1.00</td>\n",
       "      <td>203.00</td>\n",
       "      <td>10.00</td>\n",
       "      <td>10,045.00</td>\n",
       "      <td>9,848.00</td>\n",
       "    </tr>\n",
       "    <tr>\n",
       "      <th>75%</th>\n",
       "      <td>92,438.00</td>\n",
       "      <td>1,143.00</td>\n",
       "      <td>1.00</td>\n",
       "      <td>1.00</td>\n",
       "      <td>0.00</td>\n",
       "      <td>2,420.00</td>\n",
       "      <td>1,615.09</td>\n",
       "      <td>0.00</td>\n",
       "      <td>1.00</td>\n",
       "      <td>2.00</td>\n",
       "      <td>1.00</td>\n",
       "      <td>219.00</td>\n",
       "      <td>10.00</td>\n",
       "      <td>11,059.00</td>\n",
       "      <td>73,458.00</td>\n",
       "    </tr>\n",
       "    <tr>\n",
       "      <th>max</th>\n",
       "      <td>156,048.00</td>\n",
       "      <td>1,380.00</td>\n",
       "      <td>1,160.00</td>\n",
       "      <td>1.00</td>\n",
       "      <td>1.00</td>\n",
       "      <td>51,999.00</td>\n",
       "      <td>38,999.25</td>\n",
       "      <td>8.00</td>\n",
       "      <td>1.00</td>\n",
       "      <td>3.00</td>\n",
       "      <td>1.00</td>\n",
       "      <td>219.00</td>\n",
       "      <td>10.00</td>\n",
       "      <td>113,535.00</td>\n",
       "      <td>113,534.00</td>\n",
       "    </tr>\n",
       "  </tbody>\n",
       "</table>\n",
       "</div>"
      ],
      "text/plain": [
       "         product_rk store_location_rk        demand   PROMO1_FLAG  \\\n",
       "count  3,418,374.00      3,418,374.00  3,418,374.00  3,418,374.00   \n",
       "mean      68,079.04            938.66          1.06          0.42   \n",
       "std       29,935.09            264.33          2.80          0.49   \n",
       "min       11,389.00            453.00          0.00          0.00   \n",
       "25%       43,899.00            764.00          0.12          0.00   \n",
       "50%       75,563.00          1,005.00          0.75          0.00   \n",
       "75%       92,438.00          1,143.00          1.00          1.00   \n",
       "max      156,048.00          1,380.00      1,160.00          1.00   \n",
       "\n",
       "        PROMO2_FLAG PRICE_REGULAR PRICE_AFTER_DISC NUM_CONSULTANT  \\\n",
       "count  3,418,374.00  3,418,374.00     3,418,374.00   3,418,374.00   \n",
       "mean           0.00      1,666.07         1,162.96           0.10   \n",
       "std            0.06      2,149.61         1,474.79           0.66   \n",
       "min            0.00          0.59             0.30           0.00   \n",
       "25%            0.00        269.04           232.00           0.00   \n",
       "50%            0.00        600.00           504.00           0.00   \n",
       "75%            0.00      2,420.00         1,615.09           0.00   \n",
       "max            1.00     51,999.00        38,999.25           8.00   \n",
       "\n",
       "      AUTORIZATION_FLAG  PROMO12_FLAG     NO_FILTER          city  \\\n",
       "count      3,418,374.00  3,418,374.00  3,418,374.00  3,418,374.00   \n",
       "mean               0.81          0.84          1.00        166.92   \n",
       "std                0.39          0.99          0.00         70.70   \n",
       "min                0.00          0.00          1.00         32.00   \n",
       "25%                1.00          0.00          1.00         54.00   \n",
       "50%                1.00          0.00          1.00        203.00   \n",
       "75%                1.00          2.00          1.00        219.00   \n",
       "max                1.00          3.00          1.00        219.00   \n",
       "\n",
       "             region product_lvl_rk3 product_lvl_rk2  \n",
       "count  3,418,374.00    3,418,374.00    3,418,374.00  \n",
       "mean          10.00       27,529.48       40,676.31  \n",
       "std            0.00       37,893.39       43,318.71  \n",
       "min           10.00        1,938.00        3,427.00  \n",
       "25%           10.00        7,182.00        9,711.00  \n",
       "50%           10.00       10,045.00        9,848.00  \n",
       "75%           10.00       11,059.00       73,458.00  \n",
       "max           10.00      113,535.00      113,534.00  "
      ]
     },
     "execution_count": 23,
     "metadata": {},
     "output_type": "execute_result"
    }
   ],
   "source": [
    "df[cols].describe().applymap('{:,.2f}'.format)"
   ]
  },
  {
   "cell_type": "code",
   "execution_count": null,
   "id": "0f8347ec",
   "metadata": {},
   "outputs": [],
   "source": [
    "## "
   ]
  },
  {
   "cell_type": "code",
   "execution_count": 52,
   "id": "35f274be",
   "metadata": {
    "ExecuteTime": {
     "end_time": "2023-05-14T17:10:35.623591Z",
     "start_time": "2023-05-14T17:10:34.720309Z"
    }
   },
   "outputs": [
    {
     "data": {
      "image/png": "[encoded data removed]",
      "text/plain": [
       "<Figure size 576x432 with 1 Axes>"
      ]
     },
     "metadata": {},
     "output_type": "display_data"
    }
   ],
   "source": [
    "plt.figure(figsize=(8, 6))\n",
    "dataPlot = df.groupby(['product_rk'])['demand'].mean().sample(15)\n",
    "dataPlot.plot.bar()\n",
    "plt.xlabel('product_rk', size=14, weight='bold')\n",
    "plt.ylabel('Mean Demand', size=14, weight='bold');\n",
    "# plt.title('Mean demand by Promo')"
   ]
  },
  {
   "cell_type": "code",
   "execution_count": 55,
   "id": "ccb59195",
   "metadata": {
    "ExecuteTime": {
     "end_time": "2023-05-14T17:13:10.295026Z",
     "start_time": "2023-05-14T17:13:10.039865Z"
    }
   },
   "outputs": [
    {
     "data": {
      "image/png": "[encoded data removed]",
      "text/plain": [
       "<Figure size 576x432 with 1 Axes>"
      ]
     },
     "metadata": {},
     "output_type": "display_data"
    }
   ],
   "source": [
    "plt.figure(figsize=(8, 6))\n",
    "dataPlot = df.groupby(['store_location_rk'])['demand'].mean().sample(10)\n",
    "dataPlot.plot.bar()\n",
    "plt.xlabel('product_rk', size=14, weight='bold')\n",
    "plt.ylabel('Mean Demand', size=14, weight='bold');\n",
    "# plt.title('Mean demand by Promo')"
   ]
  },
  {
   "cell_type": "code",
   "execution_count": 58,
   "id": "6253008b",
   "metadata": {
    "ExecuteTime": {
     "end_time": "2023-05-14T17:27:06.093188Z",
     "start_time": "2023-05-14T17:27:05.454900Z"
    }
   },
   "outputs": [
    {
     "data": {
      "image/png": "[encoded data removed]",
      "text/plain": [
       "<Figure size 576x432 with 1 Axes>"
      ]
     },
     "metadata": {},
     "output_type": "display_data"
    }
   ],
   "source": [
    "plt.figure(figsize=(8, 6))\n",
    "dataPlot = df.groupby(['product_lvl_rk3'])['demand'].mean()\n",
    "dataPlot.plot.bar()\n",
    "plt.xlabel('product_rk', size=14, weight='bold')\n",
    "plt.ylabel('Mean Demand', size=14, weight='bold');\n",
    "# plt.title('Mean demand by Promo')"
   ]
  },
  {
   "cell_type": "code",
   "execution_count": null,
   "id": "a4557d43",
   "metadata": {},
   "outputs": [],
   "source": []
  },
  {
   "cell_type": "code",
   "execution_count": null,
   "id": "503a9c33",
   "metadata": {},
   "outputs": [],
   "source": []
  },
  {
   "cell_type": "code",
   "execution_count": 49,
   "id": "94f54de3",
   "metadata": {
    "ExecuteTime": {
     "end_time": "2023-05-14T17:03:11.256738Z",
     "start_time": "2023-05-14T17:03:11.082464Z"
    }
   },
   "outputs": [
    {
     "data": {
      "image/png": "[encoded data removed]",
      "text/plain": [
       "<Figure size 576x432 with 1 Axes>"
      ]
     },
     "metadata": {},
     "output_type": "display_data"
    }
   ],
   "source": [
    "plt.figure(figsize=(8, 6))\n",
    "dataPlot = df.groupby(['PROMO1_FLAG'])['demand'].mean()\n",
    "dataPlot.index = [0, 1]\n",
    "dataPlot.plot.bar()\n",
    "plt.xlabel('PROMO1_FLAG', size=14, weight='bold')\n",
    "plt.ylabel('Mean Demand', size=14, weight='bold');\n",
    "plt.save('../data/отчеты/images/PromoDemand.png')\n",
    "# plt.title('Mean demand by Promo')"
   ]
  },
  {
   "cell_type": "code",
   "execution_count": null,
   "id": "1a0970cf",
   "metadata": {},
   "outputs": [],
   "source": []
  },
  {
   "cell_type": "code",
   "execution_count": null,
   "id": "44a99058",
   "metadata": {},
   "outputs": [],
   "source": []
  },
  {
   "cell_type": "code",
   "execution_count": null,
   "id": "138fa825",
   "metadata": {},
   "outputs": [],
   "source": []
  },
  {
   "cell_type": "code",
   "execution_count": 24,
   "id": "78e72cc2",
   "metadata": {
    "ExecuteTime": {
     "end_time": "2023-05-14T16:55:48.560750Z",
     "start_time": "2023-05-14T16:55:48.524116Z"
    }
   },
   "outputs": [
    {
     "data": {
      "text/html": [
       "<div>\n",
       "<style scoped>\n",
       "    .dataframe tbody tr th:only-of-type {\n",
       "        vertical-align: middle;\n",
       "    }\n",
       "\n",
       "    .dataframe tbody tr th {\n",
       "        vertical-align: top;\n",
       "    }\n",
       "\n",
       "    .dataframe thead th {\n",
       "        text-align: right;\n",
       "    }\n",
       "</style>\n",
       "<table border=\"1\" class=\"dataframe\">\n",
       "  <thead>\n",
       "    <tr style=\"text-align: right;\">\n",
       "      <th></th>\n",
       "      <th>product_rk</th>\n",
       "      <th>store_location_rk</th>\n",
       "      <th>period_start_dt</th>\n",
       "      <th>demand</th>\n",
       "      <th>PROMO1_FLAG</th>\n",
       "      <th>PROMO2_FLAG</th>\n",
       "      <th>PRICE_REGULAR</th>\n",
       "      <th>PRICE_AFTER_DISC</th>\n",
       "      <th>NUM_CONSULTANT</th>\n",
       "      <th>AUTORIZATION_FLAG</th>\n",
       "      <th>...</th>\n",
       "      <th>demand_lag52_w56D_keyproduct_rk_store_location_rk_preagmean_agmean_NO_FILTER_dynamic_rolling</th>\n",
       "      <th>demand_lag52_w56D_keyproduct_rk_store_location_rk_preagmean_agmedian_NO_FILTER_dynamic_rolling</th>\n",
       "      <th>demand_lag52_w182D_keyproduct_rk_store_location_rk_preagmean_agmean_NO_FILTER_dynamic_rolling</th>\n",
       "      <th>demand_lag52_w182D_keyproduct_rk_store_location_rk_preagmean_agmedian_NO_FILTER_dynamic_rolling</th>\n",
       "      <th>demand_lag52_w364D_keyproduct_rk_store_location_rk_preagmean_agmean_NO_FILTER_dynamic_rolling</th>\n",
       "      <th>demand_lag52_w364D_keyproduct_rk_store_location_rk_preagmean_agmedian_NO_FILTER_dynamic_rolling</th>\n",
       "      <th>city</th>\n",
       "      <th>region</th>\n",
       "      <th>product_lvl_rk3</th>\n",
       "      <th>product_lvl_rk2</th>\n",
       "    </tr>\n",
       "  </thead>\n",
       "  <tbody>\n",
       "    <tr>\n",
       "      <th>0</th>\n",
       "      <td>44467</td>\n",
       "      <td>1143</td>\n",
       "      <td>2016-12-26</td>\n",
       "      <td>1.344828</td>\n",
       "      <td>1.0</td>\n",
       "      <td>0.0</td>\n",
       "      <td>312.000000</td>\n",
       "      <td>271.285714</td>\n",
       "      <td>0.0</td>\n",
       "      <td>1.0</td>\n",
       "      <td>...</td>\n",
       "      <td>NaN</td>\n",
       "      <td>NaN</td>\n",
       "      <td>NaN</td>\n",
       "      <td>NaN</td>\n",
       "      <td>NaN</td>\n",
       "      <td>NaN</td>\n",
       "      <td>39</td>\n",
       "      <td>10</td>\n",
       "      <td>73613</td>\n",
       "      <td>73491</td>\n",
       "    </tr>\n",
       "    <tr>\n",
       "      <th>1</th>\n",
       "      <td>45315</td>\n",
       "      <td>1143</td>\n",
       "      <td>2016-12-26</td>\n",
       "      <td>9.000000</td>\n",
       "      <td>1.0</td>\n",
       "      <td>0.0</td>\n",
       "      <td>629.000000</td>\n",
       "      <td>629.000000</td>\n",
       "      <td>0.0</td>\n",
       "      <td>1.0</td>\n",
       "      <td>...</td>\n",
       "      <td>NaN</td>\n",
       "      <td>NaN</td>\n",
       "      <td>NaN</td>\n",
       "      <td>NaN</td>\n",
       "      <td>NaN</td>\n",
       "      <td>NaN</td>\n",
       "      <td>39</td>\n",
       "      <td>10</td>\n",
       "      <td>10045</td>\n",
       "      <td>9848</td>\n",
       "    </tr>\n",
       "    <tr>\n",
       "      <th>2</th>\n",
       "      <td>36220</td>\n",
       "      <td>1143</td>\n",
       "      <td>2016-12-26</td>\n",
       "      <td>1.000000</td>\n",
       "      <td>1.0</td>\n",
       "      <td>0.0</td>\n",
       "      <td>171.000000</td>\n",
       "      <td>171.000000</td>\n",
       "      <td>0.0</td>\n",
       "      <td>1.0</td>\n",
       "      <td>...</td>\n",
       "      <td>NaN</td>\n",
       "      <td>NaN</td>\n",
       "      <td>NaN</td>\n",
       "      <td>NaN</td>\n",
       "      <td>NaN</td>\n",
       "      <td>NaN</td>\n",
       "      <td>39</td>\n",
       "      <td>10</td>\n",
       "      <td>10125</td>\n",
       "      <td>9711</td>\n",
       "    </tr>\n",
       "    <tr>\n",
       "      <th>3</th>\n",
       "      <td>78148</td>\n",
       "      <td>1143</td>\n",
       "      <td>2016-12-26</td>\n",
       "      <td>1.000000</td>\n",
       "      <td>1.0</td>\n",
       "      <td>0.0</td>\n",
       "      <td>4041.857143</td>\n",
       "      <td>2020.928571</td>\n",
       "      <td>0.0</td>\n",
       "      <td>1.0</td>\n",
       "      <td>...</td>\n",
       "      <td>NaN</td>\n",
       "      <td>NaN</td>\n",
       "      <td>NaN</td>\n",
       "      <td>NaN</td>\n",
       "      <td>NaN</td>\n",
       "      <td>NaN</td>\n",
       "      <td>39</td>\n",
       "      <td>10</td>\n",
       "      <td>113535</td>\n",
       "      <td>113534</td>\n",
       "    </tr>\n",
       "    <tr>\n",
       "      <th>4</th>\n",
       "      <td>45922</td>\n",
       "      <td>1143</td>\n",
       "      <td>2016-12-26</td>\n",
       "      <td>1.000000</td>\n",
       "      <td>1.0</td>\n",
       "      <td>0.0</td>\n",
       "      <td>243.000000</td>\n",
       "      <td>243.000000</td>\n",
       "      <td>0.0</td>\n",
       "      <td>1.0</td>\n",
       "      <td>...</td>\n",
       "      <td>NaN</td>\n",
       "      <td>NaN</td>\n",
       "      <td>NaN</td>\n",
       "      <td>NaN</td>\n",
       "      <td>NaN</td>\n",
       "      <td>NaN</td>\n",
       "      <td>39</td>\n",
       "      <td>10</td>\n",
       "      <td>10045</td>\n",
       "      <td>9848</td>\n",
       "    </tr>\n",
       "  </tbody>\n",
       "</table>\n",
       "<p>5 rows × 144 columns</p>\n",
       "</div>"
      ],
      "text/plain": [
       "   product_rk  store_location_rk period_start_dt    demand  PROMO1_FLAG  \\\n",
       "0       44467               1143      2016-12-26  1.344828          1.0   \n",
       "1       45315               1143      2016-12-26  9.000000          1.0   \n",
       "2       36220               1143      2016-12-26  1.000000          1.0   \n",
       "3       78148               1143      2016-12-26  1.000000          1.0   \n",
       "4       45922               1143      2016-12-26  1.000000          1.0   \n",
       "\n",
       "   PROMO2_FLAG  PRICE_REGULAR  PRICE_AFTER_DISC  NUM_CONSULTANT  \\\n",
       "0          0.0     312.000000        271.285714             0.0   \n",
       "1          0.0     629.000000        629.000000             0.0   \n",
       "2          0.0     171.000000        171.000000             0.0   \n",
       "3          0.0    4041.857143       2020.928571             0.0   \n",
       "4          0.0     243.000000        243.000000             0.0   \n",
       "\n",
       "   AUTORIZATION_FLAG  ...  \\\n",
       "0                1.0  ...   \n",
       "1                1.0  ...   \n",
       "2                1.0  ...   \n",
       "3                1.0  ...   \n",
       "4                1.0  ...   \n",
       "\n",
       "   demand_lag52_w56D_keyproduct_rk_store_location_rk_preagmean_agmean_NO_FILTER_dynamic_rolling  \\\n",
       "0                                                NaN                                              \n",
       "1                                                NaN                                              \n",
       "2                                                NaN                                              \n",
       "3                                                NaN                                              \n",
       "4                                                NaN                                              \n",
       "\n",
       "   demand_lag52_w56D_keyproduct_rk_store_location_rk_preagmean_agmedian_NO_FILTER_dynamic_rolling  \\\n",
       "0                                                NaN                                                \n",
       "1                                                NaN                                                \n",
       "2                                                NaN                                                \n",
       "3                                                NaN                                                \n",
       "4                                                NaN                                                \n",
       "\n",
       "   demand_lag52_w182D_keyproduct_rk_store_location_rk_preagmean_agmean_NO_FILTER_dynamic_rolling  \\\n",
       "0                                                NaN                                               \n",
       "1                                                NaN                                               \n",
       "2                                                NaN                                               \n",
       "3                                                NaN                                               \n",
       "4                                                NaN                                               \n",
       "\n",
       "   demand_lag52_w182D_keyproduct_rk_store_location_rk_preagmean_agmedian_NO_FILTER_dynamic_rolling  \\\n",
       "0                                                NaN                                                 \n",
       "1                                                NaN                                                 \n",
       "2                                                NaN                                                 \n",
       "3                                                NaN                                                 \n",
       "4                                                NaN                                                 \n",
       "\n",
       "   demand_lag52_w364D_keyproduct_rk_store_location_rk_preagmean_agmean_NO_FILTER_dynamic_rolling  \\\n",
       "0                                                NaN                                               \n",
       "1                                                NaN                                               \n",
       "2                                                NaN                                               \n",
       "3                                                NaN                                               \n",
       "4                                                NaN                                               \n",
       "\n",
       "   demand_lag52_w364D_keyproduct_rk_store_location_rk_preagmean_agmedian_NO_FILTER_dynamic_rolling  \\\n",
       "0                                                NaN                                                 \n",
       "1                                                NaN                                                 \n",
       "2                                                NaN                                                 \n",
       "3                                                NaN                                                 \n",
       "4                                                NaN                                                 \n",
       "\n",
       "   city  region  product_lvl_rk3  product_lvl_rk2  \n",
       "0    39      10            73613            73491  \n",
       "1    39      10            10045             9848  \n",
       "2    39      10            10125             9711  \n",
       "3    39      10           113535           113534  \n",
       "4    39      10            10045             9848  \n",
       "\n",
       "[5 rows x 144 columns]"
      ]
     },
     "execution_count": 24,
     "metadata": {},
     "output_type": "execute_result"
    }
   ],
   "source": [
    "df.head()"
   ]
  },
  {
   "cell_type": "code",
   "execution_count": 25,
   "id": "9089e07a",
   "metadata": {
    "ExecuteTime": {
     "end_time": "2023-05-14T16:55:49.857321Z",
     "start_time": "2023-05-14T16:55:49.453935Z"
    }
   },
   "outputs": [
    {
     "data": {
      "text/plain": [
       "product_rk  store_location_rk\n",
       "11389       1034                   1\n",
       "89522       1173                   1\n",
       "            1005                   1\n",
       "89521       1143                   1\n",
       "            637                    1\n",
       "                                ... \n",
       "43998       1281                 154\n",
       "46255       1281                 154\n",
       "45312       764                  154\n",
       "40370       637                  154\n",
       "45315       1281                 155\n",
       "Name: demand, Length: 161740, dtype: int64"
      ]
     },
     "execution_count": 25,
     "metadata": {},
     "output_type": "execute_result"
    }
   ],
   "source": [
    "df.groupby(['product_rk', 'store_location_rk'])['demand'].count().sort_values()"
   ]
  },
  {
   "cell_type": "code",
   "execution_count": 28,
   "id": "f1e6025e",
   "metadata": {
    "ExecuteTime": {
     "end_time": "2023-05-14T16:56:49.479278Z",
     "start_time": "2023-05-14T16:56:49.271117Z"
    }
   },
   "outputs": [
    {
     "data": {
      "text/plain": [
       "<AxesSubplot:xlabel='period_start_dt'>"
      ]
     },
     "execution_count": 28,
     "metadata": {},
     "output_type": "execute_result"
    },
    {
     "data": {
      "image/png": "[encoded data removed]",
      "text/plain": [
       "<Figure size 1152x576 with 1 Axes>"
      ]
     },
     "metadata": {},
     "output_type": "display_data"
    }
   ],
   "source": [
    "product, store = 45315, 1281\n",
    "# feature = 'demand_lag26_w28D_keyproduct_rk_store_location_rk_preagmean_agmean_NO_FILTER_dynamic_rolling'\n",
    "# feature = 'demand_lag8_w28D_keyproduct_rk_store_location_rk_preagmean_agmedian_PROMO12_FLAG_dynamic_rolling'\n",
    "# feature = 'demand_lag8_w182D_keyproduct_rk_store_location_rk_preagmean_agmedian_PROMO12_FLAG_dynamic_rolling'\n",
    "feature = 'demand_lag52_w28D_keyproduct_rk_store_location_rk_preagmean_agmedian_PROMO1_FLAG_dynamic_rolling'\n",
    "\n",
    "\n",
    "df[(df['product_rk'] == product) & (df['store_location_rk'] == store)].\\\n",
    "        sort_values('period_start_dt').set_index('period_start_dt')[['demand'] + [feature]].plot(figsize=(16, 8))"
   ]
  },
  {
   "cell_type": "code",
   "execution_count": 27,
   "id": "0ed37d73",
   "metadata": {
    "ExecuteTime": {
     "end_time": "2023-05-14T16:56:02.486207Z",
     "start_time": "2023-05-14T16:56:02.480822Z"
    }
   },
   "outputs": [],
   "source": [
    "# df.columns[df.columns.str.contains('PROMO')]"
   ]
  },
  {
   "cell_type": "code",
   "execution_count": null,
   "id": "7274e2de",
   "metadata": {},
   "outputs": [],
   "source": []
  },
  {
   "cell_type": "code",
   "execution_count": null,
   "id": "cb87fa61",
   "metadata": {},
   "outputs": [],
   "source": []
  },
  {
   "cell_type": "code",
   "execution_count": null,
   "id": "ff253c0c",
   "metadata": {},
   "outputs": [],
   "source": []
  }
 ],
 "metadata": {
  "kernelspec": {
   "display_name": "Python 3 (ipykernel)",
   "language": "python",
   "name": "python3"
  },
  "language_info": {
   "codemirror_mode": {
    "name": "ipython",
    "version": 3
   },
   "file_extension": ".py",
   "mimetype": "text/x-python",
   "name": "python",
   "nbconvert_exporter": "python",
   "pygments_lexer": "ipython3",
   "version": "3.9.7"
  },
  "toc": {
   "base_numbering": 1,
   "nav_menu": {},
   "number_sections": true,
   "sideBar": true,
   "skip_h1_title": false,
   "title_cell": "Table of Contents",
   "title_sidebar": "Contents",
   "toc_cell": false,
   "toc_position": {},
   "toc_section_display": true,
   "toc_window_display": false
  }
 },
 "nbformat": 4,
 "nbformat_minor": 5
}
